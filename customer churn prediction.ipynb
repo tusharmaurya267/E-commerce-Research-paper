{
 "cells": [
  {
   "cell_type": "code",
   "execution_count": 1,
   "id": "c44dc649",
   "metadata": {},
   "outputs": [],
   "source": [
    "import numpy as np \n",
    "import pandas as pd \n",
    "import matplotlib.pyplot as plt\n",
    "import os\n",
    "for dirname, _, filenames in os.walk('/kaggle/input'):\n",
    "    for filename in filenames:\n",
    "        print(os.path.join(dirname, filename))"
   ]
  },
  {
   "cell_type": "code",
   "execution_count": 2,
   "id": "9ada5880",
   "metadata": {},
   "outputs": [
    {
     "name": "stdout",
     "output_type": "stream",
     "text": [
      "Requirement already satisfied: openpyxl in c:\\users\\asus\\anaconda3\\lib\\site-packages (3.0.9)\n",
      "Requirement already satisfied: et-xmlfile in c:\\users\\asus\\anaconda3\\lib\\site-packages (from openpyxl) (1.1.0)\n",
      "Note: you may need to restart the kernel to use updated packages.\n"
     ]
    }
   ],
   "source": [
    "pip install openpyxl"
   ]
  },
  {
   "cell_type": "code",
   "execution_count": 3,
   "id": "23c1e29d",
   "metadata": {},
   "outputs": [
    {
     "data": {
      "text/html": [
       "<div>\n",
       "<style scoped>\n",
       "    .dataframe tbody tr th:only-of-type {\n",
       "        vertical-align: middle;\n",
       "    }\n",
       "\n",
       "    .dataframe tbody tr th {\n",
       "        vertical-align: top;\n",
       "    }\n",
       "\n",
       "    .dataframe thead th {\n",
       "        text-align: right;\n",
       "    }\n",
       "</style>\n",
       "<table border=\"1\" class=\"dataframe\">\n",
       "  <thead>\n",
       "    <tr style=\"text-align: right;\">\n",
       "      <th></th>\n",
       "      <th>Unnamed: 0</th>\n",
       "      <th>CustomerID</th>\n",
       "      <th>Churn</th>\n",
       "      <th>Tenure</th>\n",
       "      <th>PreferredLoginDevice</th>\n",
       "      <th>CityTier</th>\n",
       "      <th>WarehouseToHome</th>\n",
       "      <th>PreferredPaymentMode</th>\n",
       "      <th>Gender</th>\n",
       "      <th>HourSpendOnApp</th>\n",
       "      <th>...</th>\n",
       "      <th>PreferedOrderCat</th>\n",
       "      <th>SatisfactionScore</th>\n",
       "      <th>MaritalStatus</th>\n",
       "      <th>NumberOfAddress</th>\n",
       "      <th>Complain</th>\n",
       "      <th>OrderAmountHikeFromlastYear</th>\n",
       "      <th>CouponUsed</th>\n",
       "      <th>OrderCount</th>\n",
       "      <th>DaySinceLastOrder</th>\n",
       "      <th>CashbackAmount</th>\n",
       "    </tr>\n",
       "  </thead>\n",
       "  <tbody>\n",
       "    <tr>\n",
       "      <th>0</th>\n",
       "      <td>0</td>\n",
       "      <td>50001</td>\n",
       "      <td>1</td>\n",
       "      <td>4.0</td>\n",
       "      <td>Mobile Phone</td>\n",
       "      <td>3</td>\n",
       "      <td>6.0</td>\n",
       "      <td>Debit Card</td>\n",
       "      <td>Female</td>\n",
       "      <td>3.0</td>\n",
       "      <td>...</td>\n",
       "      <td>Laptop &amp; Accessory</td>\n",
       "      <td>2.0</td>\n",
       "      <td>Single</td>\n",
       "      <td>9.0</td>\n",
       "      <td>1</td>\n",
       "      <td>11.0</td>\n",
       "      <td>1.0</td>\n",
       "      <td>1.0</td>\n",
       "      <td>5.0</td>\n",
       "      <td>159.93</td>\n",
       "    </tr>\n",
       "    <tr>\n",
       "      <th>1</th>\n",
       "      <td>1</td>\n",
       "      <td>50002</td>\n",
       "      <td>1</td>\n",
       "      <td>9.0</td>\n",
       "      <td>Phone</td>\n",
       "      <td>1</td>\n",
       "      <td>8.0</td>\n",
       "      <td>UPI</td>\n",
       "      <td>Male</td>\n",
       "      <td>3.0</td>\n",
       "      <td>...</td>\n",
       "      <td>Mobile</td>\n",
       "      <td>3.0</td>\n",
       "      <td>Single</td>\n",
       "      <td>7.0</td>\n",
       "      <td>1</td>\n",
       "      <td>15.0</td>\n",
       "      <td>0.0</td>\n",
       "      <td>1.0</td>\n",
       "      <td>0.0</td>\n",
       "      <td>120.90</td>\n",
       "    </tr>\n",
       "    <tr>\n",
       "      <th>2</th>\n",
       "      <td>2</td>\n",
       "      <td>50003</td>\n",
       "      <td>1</td>\n",
       "      <td>9.0</td>\n",
       "      <td>Phone</td>\n",
       "      <td>1</td>\n",
       "      <td>30.0</td>\n",
       "      <td>Debit Card</td>\n",
       "      <td>Male</td>\n",
       "      <td>2.0</td>\n",
       "      <td>...</td>\n",
       "      <td>Mobile</td>\n",
       "      <td>3.0</td>\n",
       "      <td>Single</td>\n",
       "      <td>6.0</td>\n",
       "      <td>1</td>\n",
       "      <td>14.0</td>\n",
       "      <td>0.0</td>\n",
       "      <td>1.0</td>\n",
       "      <td>3.0</td>\n",
       "      <td>120.28</td>\n",
       "    </tr>\n",
       "    <tr>\n",
       "      <th>3</th>\n",
       "      <td>3</td>\n",
       "      <td>50004</td>\n",
       "      <td>1</td>\n",
       "      <td>0.0</td>\n",
       "      <td>Phone</td>\n",
       "      <td>3</td>\n",
       "      <td>15.0</td>\n",
       "      <td>Debit Card</td>\n",
       "      <td>Male</td>\n",
       "      <td>2.0</td>\n",
       "      <td>...</td>\n",
       "      <td>Laptop &amp; Accessory</td>\n",
       "      <td>5.0</td>\n",
       "      <td>Single</td>\n",
       "      <td>8.0</td>\n",
       "      <td>0</td>\n",
       "      <td>23.0</td>\n",
       "      <td>0.0</td>\n",
       "      <td>1.0</td>\n",
       "      <td>3.0</td>\n",
       "      <td>134.07</td>\n",
       "    </tr>\n",
       "    <tr>\n",
       "      <th>4</th>\n",
       "      <td>4</td>\n",
       "      <td>50005</td>\n",
       "      <td>1</td>\n",
       "      <td>0.0</td>\n",
       "      <td>Phone</td>\n",
       "      <td>1</td>\n",
       "      <td>12.0</td>\n",
       "      <td>CC</td>\n",
       "      <td>Male</td>\n",
       "      <td>3.0</td>\n",
       "      <td>...</td>\n",
       "      <td>Mobile</td>\n",
       "      <td>5.0</td>\n",
       "      <td>Single</td>\n",
       "      <td>3.0</td>\n",
       "      <td>0</td>\n",
       "      <td>11.0</td>\n",
       "      <td>1.0</td>\n",
       "      <td>1.0</td>\n",
       "      <td>3.0</td>\n",
       "      <td>129.60</td>\n",
       "    </tr>\n",
       "    <tr>\n",
       "      <th>...</th>\n",
       "      <td>...</td>\n",
       "      <td>...</td>\n",
       "      <td>...</td>\n",
       "      <td>...</td>\n",
       "      <td>...</td>\n",
       "      <td>...</td>\n",
       "      <td>...</td>\n",
       "      <td>...</td>\n",
       "      <td>...</td>\n",
       "      <td>...</td>\n",
       "      <td>...</td>\n",
       "      <td>...</td>\n",
       "      <td>...</td>\n",
       "      <td>...</td>\n",
       "      <td>...</td>\n",
       "      <td>...</td>\n",
       "      <td>...</td>\n",
       "      <td>...</td>\n",
       "      <td>...</td>\n",
       "      <td>...</td>\n",
       "      <td>...</td>\n",
       "    </tr>\n",
       "    <tr>\n",
       "      <th>5625</th>\n",
       "      <td>5625</td>\n",
       "      <td>55626</td>\n",
       "      <td>0</td>\n",
       "      <td>10.0</td>\n",
       "      <td>Computer</td>\n",
       "      <td>1</td>\n",
       "      <td>30.0</td>\n",
       "      <td>CC</td>\n",
       "      <td>Male</td>\n",
       "      <td>3.0</td>\n",
       "      <td>...</td>\n",
       "      <td>Laptop &amp; Accessory</td>\n",
       "      <td>1.0</td>\n",
       "      <td>Married</td>\n",
       "      <td>6.0</td>\n",
       "      <td>0</td>\n",
       "      <td>18.0</td>\n",
       "      <td>1.0</td>\n",
       "      <td>2.0</td>\n",
       "      <td>4.0</td>\n",
       "      <td>150.71</td>\n",
       "    </tr>\n",
       "    <tr>\n",
       "      <th>5626</th>\n",
       "      <td>5626</td>\n",
       "      <td>55627</td>\n",
       "      <td>0</td>\n",
       "      <td>13.0</td>\n",
       "      <td>Mobile Phone</td>\n",
       "      <td>1</td>\n",
       "      <td>13.0</td>\n",
       "      <td>CC</td>\n",
       "      <td>Male</td>\n",
       "      <td>3.0</td>\n",
       "      <td>...</td>\n",
       "      <td>Fashion</td>\n",
       "      <td>5.0</td>\n",
       "      <td>Married</td>\n",
       "      <td>6.0</td>\n",
       "      <td>0</td>\n",
       "      <td>16.0</td>\n",
       "      <td>1.0</td>\n",
       "      <td>2.0</td>\n",
       "      <td>3.0</td>\n",
       "      <td>224.91</td>\n",
       "    </tr>\n",
       "    <tr>\n",
       "      <th>5627</th>\n",
       "      <td>5627</td>\n",
       "      <td>55628</td>\n",
       "      <td>0</td>\n",
       "      <td>1.0</td>\n",
       "      <td>Mobile Phone</td>\n",
       "      <td>1</td>\n",
       "      <td>11.0</td>\n",
       "      <td>Debit Card</td>\n",
       "      <td>Male</td>\n",
       "      <td>3.0</td>\n",
       "      <td>...</td>\n",
       "      <td>Laptop &amp; Accessory</td>\n",
       "      <td>4.0</td>\n",
       "      <td>Married</td>\n",
       "      <td>3.0</td>\n",
       "      <td>1</td>\n",
       "      <td>21.0</td>\n",
       "      <td>1.0</td>\n",
       "      <td>2.0</td>\n",
       "      <td>4.0</td>\n",
       "      <td>186.42</td>\n",
       "    </tr>\n",
       "    <tr>\n",
       "      <th>5628</th>\n",
       "      <td>5628</td>\n",
       "      <td>55629</td>\n",
       "      <td>0</td>\n",
       "      <td>23.0</td>\n",
       "      <td>Computer</td>\n",
       "      <td>3</td>\n",
       "      <td>9.0</td>\n",
       "      <td>CC</td>\n",
       "      <td>Male</td>\n",
       "      <td>4.0</td>\n",
       "      <td>...</td>\n",
       "      <td>Laptop &amp; Accessory</td>\n",
       "      <td>4.0</td>\n",
       "      <td>Married</td>\n",
       "      <td>4.0</td>\n",
       "      <td>0</td>\n",
       "      <td>15.0</td>\n",
       "      <td>2.0</td>\n",
       "      <td>2.0</td>\n",
       "      <td>9.0</td>\n",
       "      <td>178.90</td>\n",
       "    </tr>\n",
       "    <tr>\n",
       "      <th>5629</th>\n",
       "      <td>5629</td>\n",
       "      <td>55630</td>\n",
       "      <td>0</td>\n",
       "      <td>8.0</td>\n",
       "      <td>Mobile Phone</td>\n",
       "      <td>1</td>\n",
       "      <td>15.0</td>\n",
       "      <td>CC</td>\n",
       "      <td>Male</td>\n",
       "      <td>3.0</td>\n",
       "      <td>...</td>\n",
       "      <td>Laptop &amp; Accessory</td>\n",
       "      <td>3.0</td>\n",
       "      <td>Married</td>\n",
       "      <td>4.0</td>\n",
       "      <td>0</td>\n",
       "      <td>13.0</td>\n",
       "      <td>2.0</td>\n",
       "      <td>2.0</td>\n",
       "      <td>3.0</td>\n",
       "      <td>169.04</td>\n",
       "    </tr>\n",
       "  </tbody>\n",
       "</table>\n",
       "<p>5630 rows × 21 columns</p>\n",
       "</div>"
      ],
      "text/plain": [
       "      Unnamed: 0  CustomerID  Churn  Tenure PreferredLoginDevice  CityTier  \\\n",
       "0              0       50001      1     4.0         Mobile Phone         3   \n",
       "1              1       50002      1     9.0                Phone         1   \n",
       "2              2       50003      1     9.0                Phone         1   \n",
       "3              3       50004      1     0.0                Phone         3   \n",
       "4              4       50005      1     0.0                Phone         1   \n",
       "...          ...         ...    ...     ...                  ...       ...   \n",
       "5625        5625       55626      0    10.0             Computer         1   \n",
       "5626        5626       55627      0    13.0         Mobile Phone         1   \n",
       "5627        5627       55628      0     1.0         Mobile Phone         1   \n",
       "5628        5628       55629      0    23.0             Computer         3   \n",
       "5629        5629       55630      0     8.0         Mobile Phone         1   \n",
       "\n",
       "      WarehouseToHome PreferredPaymentMode  Gender  HourSpendOnApp  ...  \\\n",
       "0                 6.0           Debit Card  Female             3.0  ...   \n",
       "1                 8.0                  UPI    Male             3.0  ...   \n",
       "2                30.0           Debit Card    Male             2.0  ...   \n",
       "3                15.0           Debit Card    Male             2.0  ...   \n",
       "4                12.0                   CC    Male             3.0  ...   \n",
       "...               ...                  ...     ...             ...  ...   \n",
       "5625             30.0                   CC    Male             3.0  ...   \n",
       "5626             13.0                   CC    Male             3.0  ...   \n",
       "5627             11.0           Debit Card    Male             3.0  ...   \n",
       "5628              9.0                   CC    Male             4.0  ...   \n",
       "5629             15.0                   CC    Male             3.0  ...   \n",
       "\n",
       "        PreferedOrderCat SatisfactionScore  MaritalStatus NumberOfAddress  \\\n",
       "0     Laptop & Accessory               2.0         Single             9.0   \n",
       "1                 Mobile               3.0         Single             7.0   \n",
       "2                 Mobile               3.0         Single             6.0   \n",
       "3     Laptop & Accessory               5.0         Single             8.0   \n",
       "4                 Mobile               5.0         Single             3.0   \n",
       "...                  ...               ...            ...             ...   \n",
       "5625  Laptop & Accessory               1.0        Married             6.0   \n",
       "5626             Fashion               5.0        Married             6.0   \n",
       "5627  Laptop & Accessory               4.0        Married             3.0   \n",
       "5628  Laptop & Accessory               4.0        Married             4.0   \n",
       "5629  Laptop & Accessory               3.0        Married             4.0   \n",
       "\n",
       "      Complain  OrderAmountHikeFromlastYear  CouponUsed  OrderCount  \\\n",
       "0            1                         11.0         1.0         1.0   \n",
       "1            1                         15.0         0.0         1.0   \n",
       "2            1                         14.0         0.0         1.0   \n",
       "3            0                         23.0         0.0         1.0   \n",
       "4            0                         11.0         1.0         1.0   \n",
       "...        ...                          ...         ...         ...   \n",
       "5625         0                         18.0         1.0         2.0   \n",
       "5626         0                         16.0         1.0         2.0   \n",
       "5627         1                         21.0         1.0         2.0   \n",
       "5628         0                         15.0         2.0         2.0   \n",
       "5629         0                         13.0         2.0         2.0   \n",
       "\n",
       "      DaySinceLastOrder  CashbackAmount  \n",
       "0                   5.0          159.93  \n",
       "1                   0.0          120.90  \n",
       "2                   3.0          120.28  \n",
       "3                   3.0          134.07  \n",
       "4                   3.0          129.60  \n",
       "...                 ...             ...  \n",
       "5625                4.0          150.71  \n",
       "5626                3.0          224.91  \n",
       "5627                4.0          186.42  \n",
       "5628                9.0          178.90  \n",
       "5629                3.0          169.04  \n",
       "\n",
       "[5630 rows x 21 columns]"
      ]
     },
     "execution_count": 3,
     "metadata": {},
     "output_type": "execute_result"
    }
   ],
   "source": [
    "df = pd.read_csv(\"E Commerce Dataset 1.csv\")\n",
    "df"
   ]
  },
  {
   "cell_type": "code",
   "execution_count": 4,
   "id": "dc2cdd1f",
   "metadata": {},
   "outputs": [
    {
     "data": {
      "text/plain": [
       "Index(['Unnamed: 0', 'CustomerID', 'Churn', 'Tenure', 'PreferredLoginDevice',\n",
       "       'CityTier', 'WarehouseToHome', 'PreferredPaymentMode', 'Gender',\n",
       "       'HourSpendOnApp', 'NumberOfDeviceRegistered', 'PreferedOrderCat',\n",
       "       'SatisfactionScore', 'MaritalStatus', 'NumberOfAddress', 'Complain',\n",
       "       'OrderAmountHikeFromlastYear', 'CouponUsed', 'OrderCount',\n",
       "       'DaySinceLastOrder', 'CashbackAmount'],\n",
       "      dtype='object')"
      ]
     },
     "execution_count": 4,
     "metadata": {},
     "output_type": "execute_result"
    }
   ],
   "source": [
    "df.keys()"
   ]
  },
  {
   "cell_type": "code",
   "execution_count": 5,
   "id": "119747ee",
   "metadata": {},
   "outputs": [
    {
     "data": {
      "text/html": [
       "<div>\n",
       "<style scoped>\n",
       "    .dataframe tbody tr th:only-of-type {\n",
       "        vertical-align: middle;\n",
       "    }\n",
       "\n",
       "    .dataframe tbody tr th {\n",
       "        vertical-align: top;\n",
       "    }\n",
       "\n",
       "    .dataframe thead th {\n",
       "        text-align: right;\n",
       "    }\n",
       "</style>\n",
       "<table border=\"1\" class=\"dataframe\">\n",
       "  <thead>\n",
       "    <tr style=\"text-align: right;\">\n",
       "      <th></th>\n",
       "      <th>Unnamed: 0</th>\n",
       "      <th>CustomerID</th>\n",
       "      <th>Churn</th>\n",
       "      <th>Tenure</th>\n",
       "      <th>CityTier</th>\n",
       "      <th>WarehouseToHome</th>\n",
       "      <th>HourSpendOnApp</th>\n",
       "      <th>NumberOfDeviceRegistered</th>\n",
       "      <th>SatisfactionScore</th>\n",
       "      <th>NumberOfAddress</th>\n",
       "      <th>Complain</th>\n",
       "      <th>OrderAmountHikeFromlastYear</th>\n",
       "      <th>CouponUsed</th>\n",
       "      <th>OrderCount</th>\n",
       "      <th>DaySinceLastOrder</th>\n",
       "      <th>CashbackAmount</th>\n",
       "    </tr>\n",
       "  </thead>\n",
       "  <tbody>\n",
       "    <tr>\n",
       "      <th>count</th>\n",
       "      <td>5630.000000</td>\n",
       "      <td>5630.000000</td>\n",
       "      <td>5630.000000</td>\n",
       "      <td>5630.000000</td>\n",
       "      <td>5630.000000</td>\n",
       "      <td>5630.000000</td>\n",
       "      <td>5630.000000</td>\n",
       "      <td>5630.000000</td>\n",
       "      <td>5630.000000</td>\n",
       "      <td>5630.000000</td>\n",
       "      <td>5630.000000</td>\n",
       "      <td>5630.000000</td>\n",
       "      <td>5630.000000</td>\n",
       "      <td>5630.000000</td>\n",
       "      <td>5630.000000</td>\n",
       "      <td>5630.000000</td>\n",
       "    </tr>\n",
       "    <tr>\n",
       "      <th>mean</th>\n",
       "      <td>2814.500000</td>\n",
       "      <td>52815.500000</td>\n",
       "      <td>0.168384</td>\n",
       "      <td>10.118117</td>\n",
       "      <td>1.654707</td>\n",
       "      <td>15.534813</td>\n",
       "      <td>2.934636</td>\n",
       "      <td>3.695471</td>\n",
       "      <td>3.066785</td>\n",
       "      <td>4.207993</td>\n",
       "      <td>0.284902</td>\n",
       "      <td>15.671670</td>\n",
       "      <td>1.440409</td>\n",
       "      <td>2.520604</td>\n",
       "      <td>4.429130</td>\n",
       "      <td>175.324229</td>\n",
       "    </tr>\n",
       "    <tr>\n",
       "      <th>std</th>\n",
       "      <td>1625.385339</td>\n",
       "      <td>1625.385339</td>\n",
       "      <td>0.374240</td>\n",
       "      <td>8.291334</td>\n",
       "      <td>0.915389</td>\n",
       "      <td>8.089328</td>\n",
       "      <td>0.703826</td>\n",
       "      <td>0.942015</td>\n",
       "      <td>1.380194</td>\n",
       "      <td>2.555111</td>\n",
       "      <td>0.451408</td>\n",
       "      <td>3.582823</td>\n",
       "      <td>1.071295</td>\n",
       "      <td>1.711109</td>\n",
       "      <td>3.439184</td>\n",
       "      <td>44.069817</td>\n",
       "    </tr>\n",
       "    <tr>\n",
       "      <th>min</th>\n",
       "      <td>0.000000</td>\n",
       "      <td>50001.000000</td>\n",
       "      <td>0.000000</td>\n",
       "      <td>0.000000</td>\n",
       "      <td>1.000000</td>\n",
       "      <td>5.000000</td>\n",
       "      <td>0.500000</td>\n",
       "      <td>1.500000</td>\n",
       "      <td>1.000000</td>\n",
       "      <td>1.000000</td>\n",
       "      <td>0.000000</td>\n",
       "      <td>11.000000</td>\n",
       "      <td>0.000000</td>\n",
       "      <td>1.000000</td>\n",
       "      <td>0.000000</td>\n",
       "      <td>69.836250</td>\n",
       "    </tr>\n",
       "    <tr>\n",
       "      <th>25%</th>\n",
       "      <td>1407.250000</td>\n",
       "      <td>51408.250000</td>\n",
       "      <td>0.000000</td>\n",
       "      <td>3.000000</td>\n",
       "      <td>1.000000</td>\n",
       "      <td>9.000000</td>\n",
       "      <td>2.000000</td>\n",
       "      <td>3.000000</td>\n",
       "      <td>2.000000</td>\n",
       "      <td>2.000000</td>\n",
       "      <td>0.000000</td>\n",
       "      <td>13.000000</td>\n",
       "      <td>1.000000</td>\n",
       "      <td>1.000000</td>\n",
       "      <td>2.000000</td>\n",
       "      <td>145.770000</td>\n",
       "    </tr>\n",
       "    <tr>\n",
       "      <th>50%</th>\n",
       "      <td>2814.500000</td>\n",
       "      <td>52815.500000</td>\n",
       "      <td>0.000000</td>\n",
       "      <td>9.000000</td>\n",
       "      <td>1.000000</td>\n",
       "      <td>14.000000</td>\n",
       "      <td>3.000000</td>\n",
       "      <td>4.000000</td>\n",
       "      <td>3.000000</td>\n",
       "      <td>3.000000</td>\n",
       "      <td>0.000000</td>\n",
       "      <td>15.000000</td>\n",
       "      <td>1.000000</td>\n",
       "      <td>2.000000</td>\n",
       "      <td>3.000000</td>\n",
       "      <td>163.280000</td>\n",
       "    </tr>\n",
       "    <tr>\n",
       "      <th>75%</th>\n",
       "      <td>4221.750000</td>\n",
       "      <td>54222.750000</td>\n",
       "      <td>0.000000</td>\n",
       "      <td>15.000000</td>\n",
       "      <td>3.000000</td>\n",
       "      <td>20.000000</td>\n",
       "      <td>3.000000</td>\n",
       "      <td>4.000000</td>\n",
       "      <td>4.000000</td>\n",
       "      <td>6.000000</td>\n",
       "      <td>1.000000</td>\n",
       "      <td>18.000000</td>\n",
       "      <td>2.000000</td>\n",
       "      <td>3.000000</td>\n",
       "      <td>7.000000</td>\n",
       "      <td>196.392500</td>\n",
       "    </tr>\n",
       "    <tr>\n",
       "      <th>max</th>\n",
       "      <td>5629.000000</td>\n",
       "      <td>55630.000000</td>\n",
       "      <td>1.000000</td>\n",
       "      <td>33.000000</td>\n",
       "      <td>3.000000</td>\n",
       "      <td>36.500000</td>\n",
       "      <td>4.500000</td>\n",
       "      <td>5.500000</td>\n",
       "      <td>5.000000</td>\n",
       "      <td>12.000000</td>\n",
       "      <td>1.000000</td>\n",
       "      <td>25.500000</td>\n",
       "      <td>3.500000</td>\n",
       "      <td>6.000000</td>\n",
       "      <td>14.500000</td>\n",
       "      <td>272.326250</td>\n",
       "    </tr>\n",
       "  </tbody>\n",
       "</table>\n",
       "</div>"
      ],
      "text/plain": [
       "        Unnamed: 0    CustomerID        Churn       Tenure     CityTier  \\\n",
       "count  5630.000000   5630.000000  5630.000000  5630.000000  5630.000000   \n",
       "mean   2814.500000  52815.500000     0.168384    10.118117     1.654707   \n",
       "std    1625.385339   1625.385339     0.374240     8.291334     0.915389   \n",
       "min       0.000000  50001.000000     0.000000     0.000000     1.000000   \n",
       "25%    1407.250000  51408.250000     0.000000     3.000000     1.000000   \n",
       "50%    2814.500000  52815.500000     0.000000     9.000000     1.000000   \n",
       "75%    4221.750000  54222.750000     0.000000    15.000000     3.000000   \n",
       "max    5629.000000  55630.000000     1.000000    33.000000     3.000000   \n",
       "\n",
       "       WarehouseToHome  HourSpendOnApp  NumberOfDeviceRegistered  \\\n",
       "count      5630.000000     5630.000000               5630.000000   \n",
       "mean         15.534813        2.934636                  3.695471   \n",
       "std           8.089328        0.703826                  0.942015   \n",
       "min           5.000000        0.500000                  1.500000   \n",
       "25%           9.000000        2.000000                  3.000000   \n",
       "50%          14.000000        3.000000                  4.000000   \n",
       "75%          20.000000        3.000000                  4.000000   \n",
       "max          36.500000        4.500000                  5.500000   \n",
       "\n",
       "       SatisfactionScore  NumberOfAddress     Complain  \\\n",
       "count        5630.000000      5630.000000  5630.000000   \n",
       "mean            3.066785         4.207993     0.284902   \n",
       "std             1.380194         2.555111     0.451408   \n",
       "min             1.000000         1.000000     0.000000   \n",
       "25%             2.000000         2.000000     0.000000   \n",
       "50%             3.000000         3.000000     0.000000   \n",
       "75%             4.000000         6.000000     1.000000   \n",
       "max             5.000000        12.000000     1.000000   \n",
       "\n",
       "       OrderAmountHikeFromlastYear   CouponUsed   OrderCount  \\\n",
       "count                  5630.000000  5630.000000  5630.000000   \n",
       "mean                     15.671670     1.440409     2.520604   \n",
       "std                       3.582823     1.071295     1.711109   \n",
       "min                      11.000000     0.000000     1.000000   \n",
       "25%                      13.000000     1.000000     1.000000   \n",
       "50%                      15.000000     1.000000     2.000000   \n",
       "75%                      18.000000     2.000000     3.000000   \n",
       "max                      25.500000     3.500000     6.000000   \n",
       "\n",
       "       DaySinceLastOrder  CashbackAmount  \n",
       "count        5630.000000     5630.000000  \n",
       "mean            4.429130      175.324229  \n",
       "std             3.439184       44.069817  \n",
       "min             0.000000       69.836250  \n",
       "25%             2.000000      145.770000  \n",
       "50%             3.000000      163.280000  \n",
       "75%             7.000000      196.392500  \n",
       "max            14.500000      272.326250  "
      ]
     },
     "execution_count": 5,
     "metadata": {},
     "output_type": "execute_result"
    }
   ],
   "source": [
    "df.describe()"
   ]
  },
  {
   "cell_type": "code",
   "execution_count": 6,
   "id": "176f9e09",
   "metadata": {},
   "outputs": [
    {
     "name": "stdout",
     "output_type": "stream",
     "text": [
      "<class 'pandas.core.frame.DataFrame'>\n",
      "RangeIndex: 5630 entries, 0 to 5629\n",
      "Data columns (total 21 columns):\n",
      " #   Column                       Non-Null Count  Dtype  \n",
      "---  ------                       --------------  -----  \n",
      " 0   Unnamed: 0                   5630 non-null   int64  \n",
      " 1   CustomerID                   5630 non-null   int64  \n",
      " 2   Churn                        5630 non-null   int64  \n",
      " 3   Tenure                       5630 non-null   float64\n",
      " 4   PreferredLoginDevice         5630 non-null   object \n",
      " 5   CityTier                     5630 non-null   int64  \n",
      " 6   WarehouseToHome              5630 non-null   float64\n",
      " 7   PreferredPaymentMode         5630 non-null   object \n",
      " 8   Gender                       5630 non-null   object \n",
      " 9   HourSpendOnApp               5630 non-null   float64\n",
      " 10  NumberOfDeviceRegistered     5630 non-null   float64\n",
      " 11  PreferedOrderCat             5630 non-null   object \n",
      " 12  SatisfactionScore            5630 non-null   float64\n",
      " 13  MaritalStatus                5630 non-null   object \n",
      " 14  NumberOfAddress              5630 non-null   float64\n",
      " 15  Complain                     5630 non-null   int64  \n",
      " 16  OrderAmountHikeFromlastYear  5630 non-null   float64\n",
      " 17  CouponUsed                   5630 non-null   float64\n",
      " 18  OrderCount                   5630 non-null   float64\n",
      " 19  DaySinceLastOrder            5630 non-null   float64\n",
      " 20  CashbackAmount               5630 non-null   float64\n",
      "dtypes: float64(11), int64(5), object(5)\n",
      "memory usage: 923.8+ KB\n"
     ]
    }
   ],
   "source": [
    "df.info()"
   ]
  },
  {
   "cell_type": "code",
   "execution_count": null,
   "id": "216db7ae",
   "metadata": {},
   "outputs": [],
   "source": []
  },
  {
   "cell_type": "markdown",
   "id": "a45dd3df",
   "metadata": {},
   "source": [
    "# EXPLORATORY DATA ANALYSIS"
   ]
  },
  {
   "cell_type": "markdown",
   "id": "289037f1",
   "metadata": {},
   "source": [
    "# AND DATA CLEANING"
   ]
  },
  {
   "cell_type": "code",
   "execution_count": null,
   "id": "982afd32",
   "metadata": {},
   "outputs": [],
   "source": []
  },
  {
   "cell_type": "code",
   "execution_count": null,
   "id": "581fceac",
   "metadata": {},
   "outputs": [],
   "source": []
  },
  {
   "cell_type": "code",
   "execution_count": 7,
   "id": "7bdf978d",
   "metadata": {},
   "outputs": [],
   "source": [
    "df.isnull().sum()\n",
    "df = df.round()\n"
   ]
  },
  {
   "cell_type": "code",
   "execution_count": 8,
   "id": "5841a0ff",
   "metadata": {},
   "outputs": [
    {
     "name": "stderr",
     "output_type": "stream",
     "text": [
      "C:\\Users\\ASUS\\AppData\\Local\\Temp/ipykernel_11072/820435583.py:1: FutureWarning: Dropping of nuisance columns in DataFrame reductions (with 'numeric_only=None') is deprecated; in a future version this will raise TypeError.  Select only valid columns before calling the reduction.\n",
      "  df.fillna(df.mean(), inplace=True)\n"
     ]
    }
   ],
   "source": [
    "df.fillna(df.mean(), inplace=True)"
   ]
  },
  {
   "cell_type": "code",
   "execution_count": 9,
   "id": "d8b3235a",
   "metadata": {},
   "outputs": [
    {
     "data": {
      "text/html": [
       "<div>\n",
       "<style scoped>\n",
       "    .dataframe tbody tr th:only-of-type {\n",
       "        vertical-align: middle;\n",
       "    }\n",
       "\n",
       "    .dataframe tbody tr th {\n",
       "        vertical-align: top;\n",
       "    }\n",
       "\n",
       "    .dataframe thead th {\n",
       "        text-align: right;\n",
       "    }\n",
       "</style>\n",
       "<table border=\"1\" class=\"dataframe\">\n",
       "  <thead>\n",
       "    <tr style=\"text-align: right;\">\n",
       "      <th></th>\n",
       "      <th>Unnamed: 0</th>\n",
       "      <th>Churn</th>\n",
       "      <th>Tenure</th>\n",
       "      <th>PreferredLoginDevice</th>\n",
       "      <th>CityTier</th>\n",
       "      <th>WarehouseToHome</th>\n",
       "      <th>PreferredPaymentMode</th>\n",
       "      <th>Gender</th>\n",
       "      <th>HourSpendOnApp</th>\n",
       "      <th>NumberOfDeviceRegistered</th>\n",
       "      <th>PreferedOrderCat</th>\n",
       "      <th>SatisfactionScore</th>\n",
       "      <th>MaritalStatus</th>\n",
       "      <th>NumberOfAddress</th>\n",
       "      <th>Complain</th>\n",
       "      <th>OrderAmountHikeFromlastYear</th>\n",
       "      <th>CouponUsed</th>\n",
       "      <th>OrderCount</th>\n",
       "      <th>DaySinceLastOrder</th>\n",
       "      <th>CashbackAmount</th>\n",
       "    </tr>\n",
       "  </thead>\n",
       "  <tbody>\n",
       "    <tr>\n",
       "      <th>0</th>\n",
       "      <td>0</td>\n",
       "      <td>1</td>\n",
       "      <td>4.0</td>\n",
       "      <td>Mobile Phone</td>\n",
       "      <td>3</td>\n",
       "      <td>6.0</td>\n",
       "      <td>Debit Card</td>\n",
       "      <td>Female</td>\n",
       "      <td>3.0</td>\n",
       "      <td>3.0</td>\n",
       "      <td>Laptop &amp; Accessory</td>\n",
       "      <td>2.0</td>\n",
       "      <td>Single</td>\n",
       "      <td>9.0</td>\n",
       "      <td>1</td>\n",
       "      <td>11.0</td>\n",
       "      <td>1.0</td>\n",
       "      <td>1.0</td>\n",
       "      <td>5.0</td>\n",
       "      <td>160.0</td>\n",
       "    </tr>\n",
       "    <tr>\n",
       "      <th>1</th>\n",
       "      <td>1</td>\n",
       "      <td>1</td>\n",
       "      <td>9.0</td>\n",
       "      <td>Phone</td>\n",
       "      <td>1</td>\n",
       "      <td>8.0</td>\n",
       "      <td>UPI</td>\n",
       "      <td>Male</td>\n",
       "      <td>3.0</td>\n",
       "      <td>4.0</td>\n",
       "      <td>Mobile</td>\n",
       "      <td>3.0</td>\n",
       "      <td>Single</td>\n",
       "      <td>7.0</td>\n",
       "      <td>1</td>\n",
       "      <td>15.0</td>\n",
       "      <td>0.0</td>\n",
       "      <td>1.0</td>\n",
       "      <td>0.0</td>\n",
       "      <td>121.0</td>\n",
       "    </tr>\n",
       "    <tr>\n",
       "      <th>2</th>\n",
       "      <td>2</td>\n",
       "      <td>1</td>\n",
       "      <td>9.0</td>\n",
       "      <td>Phone</td>\n",
       "      <td>1</td>\n",
       "      <td>30.0</td>\n",
       "      <td>Debit Card</td>\n",
       "      <td>Male</td>\n",
       "      <td>2.0</td>\n",
       "      <td>4.0</td>\n",
       "      <td>Mobile</td>\n",
       "      <td>3.0</td>\n",
       "      <td>Single</td>\n",
       "      <td>6.0</td>\n",
       "      <td>1</td>\n",
       "      <td>14.0</td>\n",
       "      <td>0.0</td>\n",
       "      <td>1.0</td>\n",
       "      <td>3.0</td>\n",
       "      <td>120.0</td>\n",
       "    </tr>\n",
       "    <tr>\n",
       "      <th>3</th>\n",
       "      <td>3</td>\n",
       "      <td>1</td>\n",
       "      <td>0.0</td>\n",
       "      <td>Phone</td>\n",
       "      <td>3</td>\n",
       "      <td>15.0</td>\n",
       "      <td>Debit Card</td>\n",
       "      <td>Male</td>\n",
       "      <td>2.0</td>\n",
       "      <td>4.0</td>\n",
       "      <td>Laptop &amp; Accessory</td>\n",
       "      <td>5.0</td>\n",
       "      <td>Single</td>\n",
       "      <td>8.0</td>\n",
       "      <td>0</td>\n",
       "      <td>23.0</td>\n",
       "      <td>0.0</td>\n",
       "      <td>1.0</td>\n",
       "      <td>3.0</td>\n",
       "      <td>134.0</td>\n",
       "    </tr>\n",
       "    <tr>\n",
       "      <th>4</th>\n",
       "      <td>4</td>\n",
       "      <td>1</td>\n",
       "      <td>0.0</td>\n",
       "      <td>Phone</td>\n",
       "      <td>1</td>\n",
       "      <td>12.0</td>\n",
       "      <td>CC</td>\n",
       "      <td>Male</td>\n",
       "      <td>3.0</td>\n",
       "      <td>3.0</td>\n",
       "      <td>Mobile</td>\n",
       "      <td>5.0</td>\n",
       "      <td>Single</td>\n",
       "      <td>3.0</td>\n",
       "      <td>0</td>\n",
       "      <td>11.0</td>\n",
       "      <td>1.0</td>\n",
       "      <td>1.0</td>\n",
       "      <td>3.0</td>\n",
       "      <td>130.0</td>\n",
       "    </tr>\n",
       "    <tr>\n",
       "      <th>...</th>\n",
       "      <td>...</td>\n",
       "      <td>...</td>\n",
       "      <td>...</td>\n",
       "      <td>...</td>\n",
       "      <td>...</td>\n",
       "      <td>...</td>\n",
       "      <td>...</td>\n",
       "      <td>...</td>\n",
       "      <td>...</td>\n",
       "      <td>...</td>\n",
       "      <td>...</td>\n",
       "      <td>...</td>\n",
       "      <td>...</td>\n",
       "      <td>...</td>\n",
       "      <td>...</td>\n",
       "      <td>...</td>\n",
       "      <td>...</td>\n",
       "      <td>...</td>\n",
       "      <td>...</td>\n",
       "      <td>...</td>\n",
       "    </tr>\n",
       "    <tr>\n",
       "      <th>5625</th>\n",
       "      <td>5625</td>\n",
       "      <td>0</td>\n",
       "      <td>10.0</td>\n",
       "      <td>Computer</td>\n",
       "      <td>1</td>\n",
       "      <td>30.0</td>\n",
       "      <td>CC</td>\n",
       "      <td>Male</td>\n",
       "      <td>3.0</td>\n",
       "      <td>2.0</td>\n",
       "      <td>Laptop &amp; Accessory</td>\n",
       "      <td>1.0</td>\n",
       "      <td>Married</td>\n",
       "      <td>6.0</td>\n",
       "      <td>0</td>\n",
       "      <td>18.0</td>\n",
       "      <td>1.0</td>\n",
       "      <td>2.0</td>\n",
       "      <td>4.0</td>\n",
       "      <td>151.0</td>\n",
       "    </tr>\n",
       "    <tr>\n",
       "      <th>5626</th>\n",
       "      <td>5626</td>\n",
       "      <td>0</td>\n",
       "      <td>13.0</td>\n",
       "      <td>Mobile Phone</td>\n",
       "      <td>1</td>\n",
       "      <td>13.0</td>\n",
       "      <td>CC</td>\n",
       "      <td>Male</td>\n",
       "      <td>3.0</td>\n",
       "      <td>5.0</td>\n",
       "      <td>Fashion</td>\n",
       "      <td>5.0</td>\n",
       "      <td>Married</td>\n",
       "      <td>6.0</td>\n",
       "      <td>0</td>\n",
       "      <td>16.0</td>\n",
       "      <td>1.0</td>\n",
       "      <td>2.0</td>\n",
       "      <td>3.0</td>\n",
       "      <td>225.0</td>\n",
       "    </tr>\n",
       "    <tr>\n",
       "      <th>5627</th>\n",
       "      <td>5627</td>\n",
       "      <td>0</td>\n",
       "      <td>1.0</td>\n",
       "      <td>Mobile Phone</td>\n",
       "      <td>1</td>\n",
       "      <td>11.0</td>\n",
       "      <td>Debit Card</td>\n",
       "      <td>Male</td>\n",
       "      <td>3.0</td>\n",
       "      <td>2.0</td>\n",
       "      <td>Laptop &amp; Accessory</td>\n",
       "      <td>4.0</td>\n",
       "      <td>Married</td>\n",
       "      <td>3.0</td>\n",
       "      <td>1</td>\n",
       "      <td>21.0</td>\n",
       "      <td>1.0</td>\n",
       "      <td>2.0</td>\n",
       "      <td>4.0</td>\n",
       "      <td>186.0</td>\n",
       "    </tr>\n",
       "    <tr>\n",
       "      <th>5628</th>\n",
       "      <td>5628</td>\n",
       "      <td>0</td>\n",
       "      <td>23.0</td>\n",
       "      <td>Computer</td>\n",
       "      <td>3</td>\n",
       "      <td>9.0</td>\n",
       "      <td>CC</td>\n",
       "      <td>Male</td>\n",
       "      <td>4.0</td>\n",
       "      <td>5.0</td>\n",
       "      <td>Laptop &amp; Accessory</td>\n",
       "      <td>4.0</td>\n",
       "      <td>Married</td>\n",
       "      <td>4.0</td>\n",
       "      <td>0</td>\n",
       "      <td>15.0</td>\n",
       "      <td>2.0</td>\n",
       "      <td>2.0</td>\n",
       "      <td>9.0</td>\n",
       "      <td>179.0</td>\n",
       "    </tr>\n",
       "    <tr>\n",
       "      <th>5629</th>\n",
       "      <td>5629</td>\n",
       "      <td>0</td>\n",
       "      <td>8.0</td>\n",
       "      <td>Mobile Phone</td>\n",
       "      <td>1</td>\n",
       "      <td>15.0</td>\n",
       "      <td>CC</td>\n",
       "      <td>Male</td>\n",
       "      <td>3.0</td>\n",
       "      <td>2.0</td>\n",
       "      <td>Laptop &amp; Accessory</td>\n",
       "      <td>3.0</td>\n",
       "      <td>Married</td>\n",
       "      <td>4.0</td>\n",
       "      <td>0</td>\n",
       "      <td>13.0</td>\n",
       "      <td>2.0</td>\n",
       "      <td>2.0</td>\n",
       "      <td>3.0</td>\n",
       "      <td>169.0</td>\n",
       "    </tr>\n",
       "  </tbody>\n",
       "</table>\n",
       "<p>5630 rows × 20 columns</p>\n",
       "</div>"
      ],
      "text/plain": [
       "      Unnamed: 0  Churn  Tenure PreferredLoginDevice  CityTier  \\\n",
       "0              0      1     4.0         Mobile Phone         3   \n",
       "1              1      1     9.0                Phone         1   \n",
       "2              2      1     9.0                Phone         1   \n",
       "3              3      1     0.0                Phone         3   \n",
       "4              4      1     0.0                Phone         1   \n",
       "...          ...    ...     ...                  ...       ...   \n",
       "5625        5625      0    10.0             Computer         1   \n",
       "5626        5626      0    13.0         Mobile Phone         1   \n",
       "5627        5627      0     1.0         Mobile Phone         1   \n",
       "5628        5628      0    23.0             Computer         3   \n",
       "5629        5629      0     8.0         Mobile Phone         1   \n",
       "\n",
       "      WarehouseToHome PreferredPaymentMode  Gender  HourSpendOnApp  \\\n",
       "0                 6.0           Debit Card  Female             3.0   \n",
       "1                 8.0                  UPI    Male             3.0   \n",
       "2                30.0           Debit Card    Male             2.0   \n",
       "3                15.0           Debit Card    Male             2.0   \n",
       "4                12.0                   CC    Male             3.0   \n",
       "...               ...                  ...     ...             ...   \n",
       "5625             30.0                   CC    Male             3.0   \n",
       "5626             13.0                   CC    Male             3.0   \n",
       "5627             11.0           Debit Card    Male             3.0   \n",
       "5628              9.0                   CC    Male             4.0   \n",
       "5629             15.0                   CC    Male             3.0   \n",
       "\n",
       "      NumberOfDeviceRegistered    PreferedOrderCat  SatisfactionScore  \\\n",
       "0                          3.0  Laptop & Accessory                2.0   \n",
       "1                          4.0              Mobile                3.0   \n",
       "2                          4.0              Mobile                3.0   \n",
       "3                          4.0  Laptop & Accessory                5.0   \n",
       "4                          3.0              Mobile                5.0   \n",
       "...                        ...                 ...                ...   \n",
       "5625                       2.0  Laptop & Accessory                1.0   \n",
       "5626                       5.0             Fashion                5.0   \n",
       "5627                       2.0  Laptop & Accessory                4.0   \n",
       "5628                       5.0  Laptop & Accessory                4.0   \n",
       "5629                       2.0  Laptop & Accessory                3.0   \n",
       "\n",
       "     MaritalStatus  NumberOfAddress  Complain  OrderAmountHikeFromlastYear  \\\n",
       "0           Single              9.0         1                         11.0   \n",
       "1           Single              7.0         1                         15.0   \n",
       "2           Single              6.0         1                         14.0   \n",
       "3           Single              8.0         0                         23.0   \n",
       "4           Single              3.0         0                         11.0   \n",
       "...            ...              ...       ...                          ...   \n",
       "5625       Married              6.0         0                         18.0   \n",
       "5626       Married              6.0         0                         16.0   \n",
       "5627       Married              3.0         1                         21.0   \n",
       "5628       Married              4.0         0                         15.0   \n",
       "5629       Married              4.0         0                         13.0   \n",
       "\n",
       "      CouponUsed  OrderCount  DaySinceLastOrder  CashbackAmount  \n",
       "0            1.0         1.0                5.0           160.0  \n",
       "1            0.0         1.0                0.0           121.0  \n",
       "2            0.0         1.0                3.0           120.0  \n",
       "3            0.0         1.0                3.0           134.0  \n",
       "4            1.0         1.0                3.0           130.0  \n",
       "...          ...         ...                ...             ...  \n",
       "5625         1.0         2.0                4.0           151.0  \n",
       "5626         1.0         2.0                3.0           225.0  \n",
       "5627         1.0         2.0                4.0           186.0  \n",
       "5628         2.0         2.0                9.0           179.0  \n",
       "5629         2.0         2.0                3.0           169.0  \n",
       "\n",
       "[5630 rows x 20 columns]"
      ]
     },
     "execution_count": 9,
     "metadata": {},
     "output_type": "execute_result"
    }
   ],
   "source": [
    "# column: 'CustomerID' \n",
    "\n",
    "df.drop('CustomerID', inplace=True, axis=1)\n",
    "df"
   ]
  },
  {
   "cell_type": "code",
   "execution_count": 10,
   "id": "00e985f1",
   "metadata": {},
   "outputs": [
    {
     "data": {
      "text/plain": [
       "0    4682\n",
       "1     948\n",
       "Name: Churn, dtype: int64"
      ]
     },
     "execution_count": 10,
     "metadata": {},
     "output_type": "execute_result"
    }
   ],
   "source": [
    "# Column: 'Churn'\n",
    "\n",
    "df['Churn'].value_counts()"
   ]
  },
  {
   "cell_type": "code",
   "execution_count": 11,
   "id": "7e8fcd7a",
   "metadata": {},
   "outputs": [
    {
     "data": {
      "image/png": "[encoded data removed]",
      "text/plain": [
       "<Figure size 432x288 with 1 Axes>"
      ]
     },
     "metadata": {},
     "output_type": "display_data"
    }
   ],
   "source": [
    "labels = (\"no\", \"yes\")\n",
    "plt.pie(df['Churn'].value_counts(), labels = labels)\n",
    "plt.title(\"Churn Flag\", fontsize=10)\n",
    "plt.show()"
   ]
  },
  {
   "cell_type": "code",
   "execution_count": 12,
   "id": "05700423",
   "metadata": {},
   "outputs": [
    {
     "data": {
      "text/plain": [
       "0        4.0\n",
       "1        9.0\n",
       "2        9.0\n",
       "3        0.0\n",
       "4        0.0\n",
       "        ... \n",
       "5625    10.0\n",
       "5626    13.0\n",
       "5627     1.0\n",
       "5628    23.0\n",
       "5629     8.0\n",
       "Name: Tenure, Length: 5630, dtype: float64"
      ]
     },
     "execution_count": 12,
     "metadata": {},
     "output_type": "execute_result"
    }
   ],
   "source": [
    "# Column \"Tenure\"\n",
    "df['Tenure']"
   ]
  },
  {
   "cell_type": "code",
   "execution_count": 13,
   "id": "1b608b8e",
   "metadata": {},
   "outputs": [],
   "source": [
    "df['Tenure'] = df['Tenure'].astype(int)"
   ]
  },
  {
   "cell_type": "code",
   "execution_count": 14,
   "id": "8829bb94",
   "metadata": {},
   "outputs": [
    {
     "data": {
      "image/png": "[encoded data removed]",
      "text/plain": [
       "<Figure size 432x288 with 1 Axes>"
      ]
     },
     "metadata": {
      "needs_background": "light"
     },
     "output_type": "display_data"
    }
   ],
   "source": [
    "plt.hist(df['Tenure'])\n",
    "plt.title(\"Tenure of customer in organization - histogram\", fontsize=15)\n",
    "plt.show()"
   ]
  },
  {
   "cell_type": "code",
   "execution_count": 15,
   "id": "960f4e59",
   "metadata": {},
   "outputs": [
    {
     "data": {
      "image/png": "[encoded data removed]",
      "text/plain": [
       "<Figure size 432x288 with 1 Axes>"
      ]
     },
     "metadata": {
      "needs_background": "light"
     },
     "output_type": "display_data"
    }
   ],
   "source": [
    "plt.bar(df['Tenure'].unique(), df['Tenure'].value_counts())\n",
    "plt.title(\"Tenure of customer in organization\", fontsize=15)\n",
    "plt.show()"
   ]
  },
  {
   "cell_type": "code",
   "execution_count": 16,
   "id": "1cd73054",
   "metadata": {},
   "outputs": [],
   "source": [
    "# dropping outliers\n",
    "\n",
    "df = df[df['Tenure']<30]"
   ]
  },
  {
   "cell_type": "code",
   "execution_count": 17,
   "id": "e23f30f4",
   "metadata": {},
   "outputs": [
    {
     "data": {
      "image/png": "[encoded data removed]",
      "text/plain": [
       "<Figure size 432x288 with 1 Axes>"
      ]
     },
     "metadata": {
      "needs_background": "light"
     },
     "output_type": "display_data"
    }
   ],
   "source": [
    "plt.bar(df['Tenure'].unique(), df['Tenure'].value_counts())\n",
    "plt.title(\"Tenure of customer in organization\", fontsize=15)\n",
    "plt.show()"
   ]
  },
  {
   "cell_type": "code",
   "execution_count": 18,
   "id": "881b5b30",
   "metadata": {},
   "outputs": [
    {
     "data": {
      "text/plain": [
       "Mobile Phone    2687\n",
       "Computer        1608\n",
       "Phone           1216\n",
       "Name: PreferredLoginDevice, dtype: int64"
      ]
     },
     "execution_count": 18,
     "metadata": {},
     "output_type": "execute_result"
    }
   ],
   "source": [
    "# Column: 'PreferredLoginDevice'\n",
    "\n",
    "df['PreferredLoginDevice'].value_counts()"
   ]
  },
  {
   "cell_type": "code",
   "execution_count": 19,
   "id": "4787f37f",
   "metadata": {},
   "outputs": [
    {
     "data": {
      "image/png": "[encoded data removed]",
      "text/plain": [
       "<Figure size 432x288 with 1 Axes>"
      ]
     },
     "metadata": {},
     "output_type": "display_data"
    }
   ],
   "source": [
    "plt.pie(df['PreferredLoginDevice'].value_counts(), labels = df['PreferredLoginDevice'].value_counts().index)\n",
    "plt.title(\"Preferred login device of customer\", fontsize=10)\n",
    "plt.show()"
   ]
  },
  {
   "cell_type": "code",
   "execution_count": 20,
   "id": "886a7352",
   "metadata": {},
   "outputs": [
    {
     "name": "stderr",
     "output_type": "stream",
     "text": [
      "C:\\Users\\ASUS\\AppData\\Local\\Temp/ipykernel_11072/1470037888.py:3: SettingWithCopyWarning: \n",
      "A value is trying to be set on a copy of a slice from a DataFrame.\n",
      "Try using .loc[row_indexer,col_indexer] = value instead\n",
      "\n",
      "See the caveats in the documentation: https://pandas.pydata.org/pandas-docs/stable/user_guide/indexing.html#returning-a-view-versus-a-copy\n",
      "  df['PreferredLoginDevice'] = df['PreferredLoginDevice'].str.replace('Mobile Phone', '1', n=1).str.replace('Computer', '2', n=1).str.replace('Phone', '2', n=1).astype('int')\n"
     ]
    }
   ],
   "source": [
    "# Coverting object to int\n",
    "    \n",
    "df['PreferredLoginDevice'] = df['PreferredLoginDevice'].str.replace('Mobile Phone', '1', n=1).str.replace('Computer', '2', n=1).str.replace('Phone', '2', n=1).astype('int')"
   ]
  },
  {
   "cell_type": "code",
   "execution_count": 21,
   "id": "8816f1e0",
   "metadata": {},
   "outputs": [
    {
     "data": {
      "text/plain": [
       "1    3595\n",
       "3    1680\n",
       "2     236\n",
       "Name: CityTier, dtype: int64"
      ]
     },
     "execution_count": 21,
     "metadata": {},
     "output_type": "execute_result"
    }
   ],
   "source": [
    "# Column: 'City tier'\n",
    "df['CityTier'].value_counts()"
   ]
  },
  {
   "cell_type": "code",
   "execution_count": 22,
   "id": "2b4e9b86",
   "metadata": {},
   "outputs": [
    {
     "data": {
      "image/png": "[encoded data removed]",
      "text/plain": [
       "<Figure size 432x288 with 1 Axes>"
      ]
     },
     "metadata": {},
     "output_type": "display_data"
    }
   ],
   "source": [
    "plt.pie(df['CityTier'].value_counts(), labels = (\"Over 15 mln people\", \"3-15 million people\", \"150000 - 3 million people\"))\n",
    "plt.title(\"City Tier\", fontsize=10)\n",
    "plt.show()"
   ]
  },
  {
   "cell_type": "code",
   "execution_count": 23,
   "id": "4de977ab",
   "metadata": {},
   "outputs": [
    {
     "name": "stderr",
     "output_type": "stream",
     "text": [
      "C:\\Users\\ASUS\\AppData\\Local\\Temp/ipykernel_11072/1167077076.py:2: SettingWithCopyWarning: \n",
      "A value is trying to be set on a copy of a slice from a DataFrame.\n",
      "Try using .loc[row_indexer,col_indexer] = value instead\n",
      "\n",
      "See the caveats in the documentation: https://pandas.pydata.org/pandas-docs/stable/user_guide/indexing.html#returning-a-view-versus-a-copy\n",
      "  df['WarehouseToHome'] = df['WarehouseToHome'].astype('int')\n"
     ]
    },
    {
     "data": {
      "image/png": "[encoded data removed]",
      "text/plain": [
       "<Figure size 432x288 with 1 Axes>"
      ]
     },
     "metadata": {
      "needs_background": "light"
     },
     "output_type": "display_data"
    }
   ],
   "source": [
    "# Column: 'WarehouseToHome'\n",
    "df['WarehouseToHome'] = df['WarehouseToHome'].astype('int')\n",
    "\n",
    "plt.bar(df['WarehouseToHome'].unique(), df['WarehouseToHome'].value_counts())\n",
    "plt.title(\"Distance in between warehouse to home of customer\", fontsize=15)\n",
    "plt.show()"
   ]
  },
  {
   "cell_type": "code",
   "execution_count": 24,
   "id": "685e3d82",
   "metadata": {},
   "outputs": [],
   "source": [
    "# dropping outliers\n",
    "\n",
    "df = df[df['WarehouseToHome']<40]"
   ]
  },
  {
   "cell_type": "code",
   "execution_count": 25,
   "id": "31e24b45",
   "metadata": {},
   "outputs": [
    {
     "data": {
      "text/plain": [
       "Debit Card    2259\n",
       "CC            1740\n",
       "E wallet       596\n",
       "COD            504\n",
       "UPI            412\n",
       "Name: PreferredPaymentMode, dtype: int64"
      ]
     },
     "execution_count": 25,
     "metadata": {},
     "output_type": "execute_result"
    }
   ],
   "source": [
    "# Column: PreferredPaymentMode\n",
    "\n",
    "df['PreferredPaymentMode'].value_counts()"
   ]
  },
  {
   "cell_type": "code",
   "execution_count": 26,
   "id": "709affb7",
   "metadata": {},
   "outputs": [
    {
     "data": {
      "image/png": "[encoded data removed]",
      "text/plain": [
       "<Figure size 432x288 with 1 Axes>"
      ]
     },
     "metadata": {},
     "output_type": "display_data"
    }
   ],
   "source": [
    "plt.pie(df['PreferredPaymentMode'].value_counts(), labels = df['PreferredPaymentMode'].value_counts().index)\n",
    "plt.title(\"Preferred Payment Mode\", fontsize=10)\n",
    "plt.show()"
   ]
  },
  {
   "cell_type": "code",
   "execution_count": 27,
   "id": "6945292a",
   "metadata": {},
   "outputs": [
    {
     "data": {
      "image/png": "[encoded data removed]",
      "text/plain": [
       "<Figure size 432x288 with 1 Axes>"
      ]
     },
     "metadata": {
      "needs_background": "light"
     },
     "output_type": "display_data"
    }
   ],
   "source": [
    "plt.barh(df['PreferredPaymentMode'].unique(), df['PreferredPaymentMode'].value_counts())\n",
    "plt.title(\"Preferred payment method of customer\", fontsize=15)\n",
    "plt.show()"
   ]
  },
  {
   "cell_type": "code",
   "execution_count": 28,
   "id": "ebd3fb68",
   "metadata": {},
   "outputs": [],
   "source": [
    "# change to int\n",
    "\n",
    "df['PreferredPaymentMode'] = df['PreferredPaymentMode'].str.replace('Debit Card', '1', n=1).str.replace('Credit Card', '2', n=1).str.replace('E wallet', '3', n=1).str.replace('UPI', '4', n=1).str.replace('COD', '5', n=1).str.replace('CC', '6', n=1).str.replace('Cash on Delivery', '7', n=1).astype('int')"
   ]
  },
  {
   "cell_type": "code",
   "execution_count": 29,
   "id": "fe0d1bc4",
   "metadata": {},
   "outputs": [
    {
     "data": {
      "image/png": "[encoded data removed]",
      "text/plain": [
       "<Figure size 432x288 with 1 Axes>"
      ]
     },
     "metadata": {},
     "output_type": "display_data"
    }
   ],
   "source": [
    "# Column: Gender\n",
    "\n",
    "plt.pie(df['Gender'].value_counts(), labels = df['Gender'].value_counts().index)\n",
    "plt.title(\"Gender\", fontsize=10)\n",
    "plt.show()"
   ]
  },
  {
   "cell_type": "code",
   "execution_count": 30,
   "id": "9b733e3f",
   "metadata": {},
   "outputs": [],
   "source": [
    "df['Gender'].replace(['Female','Male', ' male', 'female'],[0,1,1,0],inplace=True)\n",
    "df['Gender'] = df['Gender'].astype('int')"
   ]
  },
  {
   "cell_type": "code",
   "execution_count": 31,
   "id": "85c6d812",
   "metadata": {},
   "outputs": [
    {
     "data": {
      "text/plain": [
       "3    2881\n",
       "2    1444\n",
       "4    1148\n",
       "1      35\n",
       "0       3\n",
       "Name: HourSpendOnApp, dtype: int64"
      ]
     },
     "execution_count": 31,
     "metadata": {},
     "output_type": "execute_result"
    }
   ],
   "source": [
    "# Column: HourSpendOnApp\n",
    "df['HourSpendOnApp'] = df['HourSpendOnApp'].astype('int')\n",
    "df['HourSpendOnApp'].value_counts()"
   ]
  },
  {
   "cell_type": "code",
   "execution_count": 32,
   "id": "9d96a51e",
   "metadata": {},
   "outputs": [],
   "source": [
    "# dropping outliers\n",
    "\n",
    "df = df[df['HourSpendOnApp']>0]\n",
    "df = df[df['HourSpendOnApp']<5]"
   ]
  },
  {
   "cell_type": "code",
   "execution_count": 33,
   "id": "38cd62e7",
   "metadata": {},
   "outputs": [
    {
     "data": {
      "image/png": "[encoded data removed]",
      "text/plain": [
       "<Figure size 432x288 with 1 Axes>"
      ]
     },
     "metadata": {
      "needs_background": "light"
     },
     "output_type": "display_data"
    }
   ],
   "source": [
    "plt.hist(df['HourSpendOnApp'], bins=4)\n",
    "plt.title(\"Hour Spend On App\", fontsize=15)\n",
    "plt.show()"
   ]
  },
  {
   "cell_type": "code",
   "execution_count": 34,
   "id": "e74442bb",
   "metadata": {},
   "outputs": [
    {
     "data": {
      "image/png": "[encoded data removed]",
      "text/plain": [
       "<Figure size 432x288 with 1 Axes>"
      ]
     },
     "metadata": {},
     "output_type": "display_data"
    }
   ],
   "source": [
    "# Column: NumberOfDeviceRegistered\n",
    "plt.pie(df['NumberOfDeviceRegistered'].value_counts(), labels = df['NumberOfDeviceRegistered'].value_counts().index)\n",
    "plt.title(\"Total number of deceives is registered on particular customer\", fontsize=10)\n",
    "plt.show()"
   ]
  },
  {
   "cell_type": "code",
   "execution_count": 35,
   "id": "46f7a61b",
   "metadata": {},
   "outputs": [
    {
     "data": {
      "image/png": "[encoded data removed]",
      "text/plain": [
       "<Figure size 432x288 with 1 Axes>"
      ]
     },
     "metadata": {},
     "output_type": "display_data"
    }
   ],
   "source": [
    "# Column: PreferedOrderCat\n",
    "plt.pie(df['PreferedOrderCat'].value_counts(), labels = df['PreferedOrderCat'].value_counts().index)\n",
    "plt.title(\"Preferred order category of customer in last month\", fontsize=10)\n",
    "plt.show()"
   ]
  },
  {
   "cell_type": "code",
   "execution_count": 36,
   "id": "275c14c3",
   "metadata": {},
   "outputs": [],
   "source": [
    "df['PreferedOrderCat'] = df['PreferedOrderCat'].str.replace('Laptop & Accessory', '1', n=1).str.replace('Mobile Phone', '2', n=1).str.replace('Mobile', '3', n=1).str.replace('Fashion', '4', n=1).str.replace('Grocery', '5', n=1).str.replace('Others', '6', n=1).astype('int')"
   ]
  },
  {
   "cell_type": "code",
   "execution_count": 37,
   "id": "39c69f6e",
   "metadata": {},
   "outputs": [
    {
     "data": {
      "image/png": "[encoded data removed]",
      "text/plain": [
       "<Figure size 432x288 with 1 Axes>"
      ]
     },
     "metadata": {
      "needs_background": "light"
     },
     "output_type": "display_data"
    },
    {
     "data": {
      "image/png": "[encoded data removed]",
      "text/plain": [
       "<Figure size 432x288 with 1 Axes>"
      ]
     },
     "metadata": {
      "needs_background": "light"
     },
     "output_type": "display_data"
    }
   ],
   "source": [
    "# Column: SatisfactionScore\n",
    "\n",
    "plt.bar(df['SatisfactionScore'].unique(), df['SatisfactionScore'].value_counts())\n",
    "plt.title(\"Satisfactory score of customer on service\", fontsize=15)\n",
    "plt.show()\n",
    "\n",
    "plt.plot(df['SatisfactionScore'].unique(), df['SatisfactionScore'].value_counts(), 'ro')\n",
    "plt.show()"
   ]
  },
  {
   "cell_type": "code",
   "execution_count": 38,
   "id": "83b9378d",
   "metadata": {},
   "outputs": [
    {
     "data": {
      "image/png": "[encoded data removed]",
      "text/plain": [
       "<Figure size 432x288 with 1 Axes>"
      ]
     },
     "metadata": {},
     "output_type": "display_data"
    }
   ],
   "source": [
    "# Column: MaritalStatus\n",
    "\n",
    "plt.pie(df['MaritalStatus'].value_counts(), labels = df['MaritalStatus'].value_counts().index)\n",
    "plt.title(\"Marital status of customer\", fontsize=10)\n",
    "plt.show()"
   ]
  },
  {
   "cell_type": "code",
   "execution_count": 39,
   "id": "abda5d84",
   "metadata": {},
   "outputs": [
    {
     "data": {
      "text/plain": [
       "Index(['Married', 'Single', 'Divorced'], dtype='object')"
      ]
     },
     "execution_count": 39,
     "metadata": {},
     "output_type": "execute_result"
    }
   ],
   "source": [
    "df['MaritalStatus'].value_counts().index"
   ]
  },
  {
   "cell_type": "code",
   "execution_count": 40,
   "id": "12123691",
   "metadata": {},
   "outputs": [],
   "source": [
    "df['MaritalStatus'] = df['MaritalStatus'].str.replace('Married', '1', n=1).str.replace('Single', '2', n=1).str.replace('Divorced', '3', n=1).astype('int')"
   ]
  },
  {
   "cell_type": "code",
   "execution_count": 41,
   "id": "4f8cd1f6",
   "metadata": {},
   "outputs": [
    {
     "data": {
      "image/png": "[encoded data removed]",
      "text/plain": [
       "<Figure size 432x288 with 1 Axes>"
      ]
     },
     "metadata": {
      "needs_background": "light"
     },
     "output_type": "display_data"
    }
   ],
   "source": [
    "# Column: NumberOfAddress\n",
    "\n",
    "plt.bar(df['NumberOfAddress'].unique(), df['NumberOfAddress'].value_counts())\n",
    "plt.title(\"Total number of added address on particular customer\", fontsize=15)\n",
    "plt.show()"
   ]
  },
  {
   "cell_type": "code",
   "execution_count": 42,
   "id": "96dc766b",
   "metadata": {},
   "outputs": [],
   "source": [
    "# dropping outliers\n",
    "\n",
    "df = df[df['NumberOfAddress']<11]"
   ]
  },
  {
   "cell_type": "code",
   "execution_count": 43,
   "id": "495e09cf",
   "metadata": {},
   "outputs": [
    {
     "data": {
      "image/png": "[encoded data removed]",
      "text/plain": [
       "<Figure size 432x288 with 1 Axes>"
      ]
     },
     "metadata": {
      "needs_background": "light"
     },
     "output_type": "display_data"
    }
   ],
   "source": [
    "# after dropping outliers\n",
    "\n",
    "plt.bar(df['NumberOfAddress'].unique(), df['NumberOfAddress'].value_counts())\n",
    "plt.title(\"Total number of added address on particular customer\", fontsize=15)\n",
    "plt.show()"
   ]
  },
  {
   "cell_type": "code",
   "execution_count": 44,
   "id": "bfc51ecf",
   "metadata": {},
   "outputs": [
    {
     "data": {
      "text/html": [
       "<div>\n",
       "<style scoped>\n",
       "    .dataframe tbody tr th:only-of-type {\n",
       "        vertical-align: middle;\n",
       "    }\n",
       "\n",
       "    .dataframe tbody tr th {\n",
       "        vertical-align: top;\n",
       "    }\n",
       "\n",
       "    .dataframe thead th {\n",
       "        text-align: right;\n",
       "    }\n",
       "</style>\n",
       "<table border=\"1\" class=\"dataframe\">\n",
       "  <thead>\n",
       "    <tr style=\"text-align: right;\">\n",
       "      <th></th>\n",
       "      <th>Complain</th>\n",
       "    </tr>\n",
       "  </thead>\n",
       "  <tbody>\n",
       "    <tr>\n",
       "      <th>0</th>\n",
       "      <td>3884</td>\n",
       "    </tr>\n",
       "    <tr>\n",
       "      <th>1</th>\n",
       "      <td>1525</td>\n",
       "    </tr>\n",
       "  </tbody>\n",
       "</table>\n",
       "</div>"
      ],
      "text/plain": [
       "   Complain\n",
       "0      3884\n",
       "1      1525"
      ]
     },
     "execution_count": 44,
     "metadata": {},
     "output_type": "execute_result"
    }
   ],
   "source": [
    "# Column: Complain\n",
    "\n",
    "df['Complain'].value_counts().to_frame()"
   ]
  },
  {
   "cell_type": "code",
   "execution_count": 45,
   "id": "c7ce6435",
   "metadata": {},
   "outputs": [
    {
     "data": {
      "image/png": "[encoded data removed]",
      "text/plain": [
       "<Figure size 432x288 with 1 Axes>"
      ]
     },
     "metadata": {
      "needs_background": "light"
     },
     "output_type": "display_data"
    }
   ],
   "source": [
    "names = ['No', 'Yes']\n",
    "values = df['Complain'].value_counts()\n",
    "plt.bar(names, values)\n",
    "plt.title(\"Any complaint has been raised in last month\", fontsize=15)\n",
    "plt.show()"
   ]
  },
  {
   "cell_type": "code",
   "execution_count": 46,
   "id": "fb8d1cf8",
   "metadata": {},
   "outputs": [
    {
     "data": {
      "text/plain": [
       "15.0    755\n",
       "14.0    727\n",
       "13.0    708\n",
       "12.0    705\n",
       "11.0    387\n",
       "16.0    323\n",
       "18.0    304\n",
       "19.0    301\n",
       "17.0    285\n",
       "20.0    230\n",
       "21.0    184\n",
       "22.0    178\n",
       "23.0    139\n",
       "24.0     80\n",
       "25.0     70\n",
       "26.0     33\n",
       "Name: OrderAmountHikeFromlastYear, dtype: int64"
      ]
     },
     "execution_count": 46,
     "metadata": {},
     "output_type": "execute_result"
    }
   ],
   "source": [
    "# Column: OrderAmountHikeFromlastYear \n",
    "\n",
    "df['OrderAmountHikeFromlastYear'].value_counts()"
   ]
  },
  {
   "cell_type": "code",
   "execution_count": 47,
   "id": "c5937806",
   "metadata": {},
   "outputs": [
    {
     "data": {
      "image/png": "[encoded data removed]",
      "text/plain": [
       "<Figure size 432x288 with 1 Axes>"
      ]
     },
     "metadata": {
      "needs_background": "light"
     },
     "output_type": "display_data"
    }
   ],
   "source": [
    "# Percentage increases in order from last year\n",
    "\n",
    "plt.hist(df['OrderAmountHikeFromlastYear'], bins=16)\n",
    "plt.title('Percentage increases in order from last year', fontsize=15)\n",
    "plt.show()"
   ]
  },
  {
   "cell_type": "code",
   "execution_count": 48,
   "id": "56ead2ba",
   "metadata": {},
   "outputs": [
    {
     "data": {
      "text/plain": [
       "1.0    2261\n",
       "2.0    1218\n",
       "0.0    1016\n",
       "4.0     601\n",
       "3.0     313\n",
       "Name: CouponUsed, dtype: int64"
      ]
     },
     "execution_count": 48,
     "metadata": {},
     "output_type": "execute_result"
    }
   ],
   "source": [
    "#Column: Coupon Used\n",
    "\n",
    "df['CouponUsed'].value_counts()"
   ]
  },
  {
   "cell_type": "code",
   "execution_count": 49,
   "id": "d480c802",
   "metadata": {},
   "outputs": [
    {
     "data": {
      "text/plain": [
       "Float64Index([0.0, 1.0, 2.0, 3.0, 4.0], dtype='float64')"
      ]
     },
     "execution_count": 49,
     "metadata": {},
     "output_type": "execute_result"
    }
   ],
   "source": [
    "df['CouponUsed'].value_counts().index.sort_values()"
   ]
  },
  {
   "cell_type": "code",
   "execution_count": 50,
   "id": "2251397e",
   "metadata": {},
   "outputs": [
    {
     "data": {
      "image/png": "[encoded data removed]",
      "text/plain": [
       "<Figure size 432x288 with 1 Axes>"
      ]
     },
     "metadata": {
      "needs_background": "light"
     },
     "output_type": "display_data"
    }
   ],
   "source": [
    "plt.bar(df['CouponUsed'].value_counts().index.sort_values(), df['CouponUsed'].value_counts())\n",
    "plt.xlim(-1,16)\n",
    "plt.title(\"Total number of coupon has been used in last month\", fontsize=15)\n",
    "plt.show()"
   ]
  },
  {
   "cell_type": "code",
   "execution_count": 51,
   "id": "4ce95e92",
   "metadata": {},
   "outputs": [
    {
     "data": {
      "text/plain": [
       "2.0    2166\n",
       "1.0    1723\n",
       "6.0     806\n",
       "3.0     341\n",
       "4.0     200\n",
       "5.0     173\n",
       "Name: OrderCount, dtype: int64"
      ]
     },
     "execution_count": 51,
     "metadata": {},
     "output_type": "execute_result"
    }
   ],
   "source": [
    "#Column: OrderCount \n",
    "\n",
    "df['OrderCount'].value_counts()"
   ]
  },
  {
   "cell_type": "code",
   "execution_count": 52,
   "id": "b2df7042",
   "metadata": {},
   "outputs": [
    {
     "data": {
      "image/png": "[encoded data removed]",
      "text/plain": [
       "<Figure size 432x288 with 1 Axes>"
      ]
     },
     "metadata": {
      "needs_background": "light"
     },
     "output_type": "display_data"
    }
   ],
   "source": [
    "plt.bar(df['OrderCount'].value_counts().index.sort_values(), df['OrderCount'].value_counts())\n",
    "plt.xlim(0,17)\n",
    "plt.title(\"Total number of orders has been places in last month\", fontsize=15)\n",
    "plt.show()"
   ]
  },
  {
   "cell_type": "code",
   "execution_count": 53,
   "id": "c0264b5d",
   "metadata": {},
   "outputs": [
    {
     "data": {
      "text/plain": [
       "3.0     1139\n",
       "2.0      771\n",
       "1.0      582\n",
       "8.0      525\n",
       "0.0      486\n",
       "7.0      445\n",
       "4.0      409\n",
       "9.0      289\n",
       "5.0      216\n",
       "10.0     146\n",
       "6.0      107\n",
       "14.0      89\n",
       "11.0      87\n",
       "12.0      69\n",
       "13.0      49\n",
       "Name: DaySinceLastOrder, dtype: int64"
      ]
     },
     "execution_count": 53,
     "metadata": {},
     "output_type": "execute_result"
    }
   ],
   "source": [
    "#Column: DaySinceLastOrder \n",
    "\n",
    "df['DaySinceLastOrder'].value_counts()\n",
    "\n",
    "#Day Since last order by customer"
   ]
  },
  {
   "cell_type": "code",
   "execution_count": 54,
   "id": "9b7fa35a",
   "metadata": {},
   "outputs": [
    {
     "data": {
      "image/png": "[encoded data removed]",
      "text/plain": [
       "<Figure size 432x288 with 1 Axes>"
      ]
     },
     "metadata": {
      "needs_background": "light"
     },
     "output_type": "display_data"
    }
   ],
   "source": [
    "plt.bar(df['DaySinceLastOrder'].unique(), df['DaySinceLastOrder'].value_counts())\n",
    "plt.title(\"Day Since last order by customer\", fontsize=15)\n",
    "plt.show()"
   ]
  },
  {
   "cell_type": "code",
   "execution_count": 55,
   "id": "ac5c187e",
   "metadata": {},
   "outputs": [],
   "source": [
    "# dropping outliers\n",
    "\n",
    "df = df[df['DaySinceLastOrder']<20]"
   ]
  },
  {
   "cell_type": "code",
   "execution_count": 56,
   "id": "b9b6349c",
   "metadata": {},
   "outputs": [
    {
     "data": {
      "image/png": "[encoded data removed]",
      "text/plain": [
       "<Figure size 432x288 with 1 Axes>"
      ]
     },
     "metadata": {
      "needs_background": "light"
     },
     "output_type": "display_data"
    }
   ],
   "source": [
    "plt.bar(df['DaySinceLastOrder'].unique(), df['DaySinceLastOrder'].value_counts())\n",
    "plt.title(\"Day Since last order by customer\", fontsize=15)\n",
    "plt.show()"
   ]
  },
  {
   "cell_type": "code",
   "execution_count": 57,
   "id": "6e8325fe",
   "metadata": {},
   "outputs": [
    {
     "data": {
      "text/plain": [
       "272.0    407\n",
       "148.0    132\n",
       "146.0    114\n",
       "152.0    111\n",
       "149.0    110\n",
       "        ... \n",
       "246.0      2\n",
       "118.0      2\n",
       "259.0      1\n",
       "241.0      1\n",
       "81.0       1\n",
       "Name: CashbackAmount, Length: 164, dtype: int64"
      ]
     },
     "execution_count": 57,
     "metadata": {},
     "output_type": "execute_result"
    }
   ],
   "source": [
    "# Column: CashbackAmount\n",
    "\n",
    "df['CashbackAmount'].value_counts()"
   ]
  },
  {
   "cell_type": "code",
   "execution_count": 58,
   "id": "2d187750",
   "metadata": {},
   "outputs": [
    {
     "data": {
      "image/png": "[encoded data removed]",
      "text/plain": [
       "<Figure size 432x288 with 1 Axes>"
      ]
     },
     "metadata": {
      "needs_background": "light"
     },
     "output_type": "display_data"
    }
   ],
   "source": [
    "plt.hist(df['CashbackAmount'], bins=100)\n",
    "plt.title('Average cashback in last month', fontsize=15)\n",
    "plt.show()"
   ]
  },
  {
   "cell_type": "code",
   "execution_count": 59,
   "id": "2b096eec",
   "metadata": {},
   "outputs": [],
   "source": [
    "# dropping outliers\n",
    "\n",
    "df = df[df['CashbackAmount']>100]"
   ]
  },
  {
   "cell_type": "code",
   "execution_count": 60,
   "id": "42c855be",
   "metadata": {},
   "outputs": [
    {
     "data": {
      "image/png": "[encoded data removed]",
      "text/plain": [
       "<Figure size 432x288 with 1 Axes>"
      ]
     },
     "metadata": {
      "needs_background": "light"
     },
     "output_type": "display_data"
    }
   ],
   "source": [
    "plt.hist(df['CashbackAmount'], bins=100)\n",
    "plt.title('Average cashback in last month', fontsize=15)\n",
    "plt.show()"
   ]
  },
  {
   "cell_type": "code",
   "execution_count": 61,
   "id": "0c00719c",
   "metadata": {},
   "outputs": [
    {
     "data": {
      "text/html": [
       "<div>\n",
       "<style scoped>\n",
       "    .dataframe tbody tr th:only-of-type {\n",
       "        vertical-align: middle;\n",
       "    }\n",
       "\n",
       "    .dataframe tbody tr th {\n",
       "        vertical-align: top;\n",
       "    }\n",
       "\n",
       "    .dataframe thead th {\n",
       "        text-align: right;\n",
       "    }\n",
       "</style>\n",
       "<table border=\"1\" class=\"dataframe\">\n",
       "  <thead>\n",
       "    <tr style=\"text-align: right;\">\n",
       "      <th></th>\n",
       "      <th>Unnamed: 0</th>\n",
       "      <th>Churn</th>\n",
       "      <th>Tenure</th>\n",
       "      <th>PreferredLoginDevice</th>\n",
       "      <th>CityTier</th>\n",
       "      <th>WarehouseToHome</th>\n",
       "      <th>PreferredPaymentMode</th>\n",
       "      <th>Gender</th>\n",
       "      <th>HourSpendOnApp</th>\n",
       "      <th>NumberOfDeviceRegistered</th>\n",
       "      <th>PreferedOrderCat</th>\n",
       "      <th>SatisfactionScore</th>\n",
       "      <th>MaritalStatus</th>\n",
       "      <th>NumberOfAddress</th>\n",
       "      <th>Complain</th>\n",
       "      <th>OrderAmountHikeFromlastYear</th>\n",
       "      <th>CouponUsed</th>\n",
       "      <th>OrderCount</th>\n",
       "      <th>DaySinceLastOrder</th>\n",
       "      <th>CashbackAmount</th>\n",
       "    </tr>\n",
       "  </thead>\n",
       "  <tbody>\n",
       "    <tr>\n",
       "      <th>0</th>\n",
       "      <td>0</td>\n",
       "      <td>1</td>\n",
       "      <td>4</td>\n",
       "      <td>1</td>\n",
       "      <td>3</td>\n",
       "      <td>6</td>\n",
       "      <td>1</td>\n",
       "      <td>0</td>\n",
       "      <td>3</td>\n",
       "      <td>3.0</td>\n",
       "      <td>1</td>\n",
       "      <td>2.0</td>\n",
       "      <td>2</td>\n",
       "      <td>9.0</td>\n",
       "      <td>1</td>\n",
       "      <td>11.0</td>\n",
       "      <td>1.0</td>\n",
       "      <td>1.0</td>\n",
       "      <td>5.0</td>\n",
       "      <td>160.0</td>\n",
       "    </tr>\n",
       "    <tr>\n",
       "      <th>1</th>\n",
       "      <td>1</td>\n",
       "      <td>1</td>\n",
       "      <td>9</td>\n",
       "      <td>2</td>\n",
       "      <td>1</td>\n",
       "      <td>8</td>\n",
       "      <td>4</td>\n",
       "      <td>1</td>\n",
       "      <td>3</td>\n",
       "      <td>4.0</td>\n",
       "      <td>3</td>\n",
       "      <td>3.0</td>\n",
       "      <td>2</td>\n",
       "      <td>7.0</td>\n",
       "      <td>1</td>\n",
       "      <td>15.0</td>\n",
       "      <td>0.0</td>\n",
       "      <td>1.0</td>\n",
       "      <td>0.0</td>\n",
       "      <td>121.0</td>\n",
       "    </tr>\n",
       "    <tr>\n",
       "      <th>2</th>\n",
       "      <td>2</td>\n",
       "      <td>1</td>\n",
       "      <td>9</td>\n",
       "      <td>2</td>\n",
       "      <td>1</td>\n",
       "      <td>30</td>\n",
       "      <td>1</td>\n",
       "      <td>1</td>\n",
       "      <td>2</td>\n",
       "      <td>4.0</td>\n",
       "      <td>3</td>\n",
       "      <td>3.0</td>\n",
       "      <td>2</td>\n",
       "      <td>6.0</td>\n",
       "      <td>1</td>\n",
       "      <td>14.0</td>\n",
       "      <td>0.0</td>\n",
       "      <td>1.0</td>\n",
       "      <td>3.0</td>\n",
       "      <td>120.0</td>\n",
       "    </tr>\n",
       "    <tr>\n",
       "      <th>3</th>\n",
       "      <td>3</td>\n",
       "      <td>1</td>\n",
       "      <td>0</td>\n",
       "      <td>2</td>\n",
       "      <td>3</td>\n",
       "      <td>15</td>\n",
       "      <td>1</td>\n",
       "      <td>1</td>\n",
       "      <td>2</td>\n",
       "      <td>4.0</td>\n",
       "      <td>1</td>\n",
       "      <td>5.0</td>\n",
       "      <td>2</td>\n",
       "      <td>8.0</td>\n",
       "      <td>0</td>\n",
       "      <td>23.0</td>\n",
       "      <td>0.0</td>\n",
       "      <td>1.0</td>\n",
       "      <td>3.0</td>\n",
       "      <td>134.0</td>\n",
       "    </tr>\n",
       "    <tr>\n",
       "      <th>4</th>\n",
       "      <td>4</td>\n",
       "      <td>1</td>\n",
       "      <td>0</td>\n",
       "      <td>2</td>\n",
       "      <td>1</td>\n",
       "      <td>12</td>\n",
       "      <td>6</td>\n",
       "      <td>1</td>\n",
       "      <td>3</td>\n",
       "      <td>3.0</td>\n",
       "      <td>3</td>\n",
       "      <td>5.0</td>\n",
       "      <td>2</td>\n",
       "      <td>3.0</td>\n",
       "      <td>0</td>\n",
       "      <td>11.0</td>\n",
       "      <td>1.0</td>\n",
       "      <td>1.0</td>\n",
       "      <td>3.0</td>\n",
       "      <td>130.0</td>\n",
       "    </tr>\n",
       "    <tr>\n",
       "      <th>...</th>\n",
       "      <td>...</td>\n",
       "      <td>...</td>\n",
       "      <td>...</td>\n",
       "      <td>...</td>\n",
       "      <td>...</td>\n",
       "      <td>...</td>\n",
       "      <td>...</td>\n",
       "      <td>...</td>\n",
       "      <td>...</td>\n",
       "      <td>...</td>\n",
       "      <td>...</td>\n",
       "      <td>...</td>\n",
       "      <td>...</td>\n",
       "      <td>...</td>\n",
       "      <td>...</td>\n",
       "      <td>...</td>\n",
       "      <td>...</td>\n",
       "      <td>...</td>\n",
       "      <td>...</td>\n",
       "      <td>...</td>\n",
       "    </tr>\n",
       "    <tr>\n",
       "      <th>5625</th>\n",
       "      <td>5625</td>\n",
       "      <td>0</td>\n",
       "      <td>10</td>\n",
       "      <td>2</td>\n",
       "      <td>1</td>\n",
       "      <td>30</td>\n",
       "      <td>6</td>\n",
       "      <td>1</td>\n",
       "      <td>3</td>\n",
       "      <td>2.0</td>\n",
       "      <td>1</td>\n",
       "      <td>1.0</td>\n",
       "      <td>1</td>\n",
       "      <td>6.0</td>\n",
       "      <td>0</td>\n",
       "      <td>18.0</td>\n",
       "      <td>1.0</td>\n",
       "      <td>2.0</td>\n",
       "      <td>4.0</td>\n",
       "      <td>151.0</td>\n",
       "    </tr>\n",
       "    <tr>\n",
       "      <th>5626</th>\n",
       "      <td>5626</td>\n",
       "      <td>0</td>\n",
       "      <td>13</td>\n",
       "      <td>1</td>\n",
       "      <td>1</td>\n",
       "      <td>13</td>\n",
       "      <td>6</td>\n",
       "      <td>1</td>\n",
       "      <td>3</td>\n",
       "      <td>5.0</td>\n",
       "      <td>4</td>\n",
       "      <td>5.0</td>\n",
       "      <td>1</td>\n",
       "      <td>6.0</td>\n",
       "      <td>0</td>\n",
       "      <td>16.0</td>\n",
       "      <td>1.0</td>\n",
       "      <td>2.0</td>\n",
       "      <td>3.0</td>\n",
       "      <td>225.0</td>\n",
       "    </tr>\n",
       "    <tr>\n",
       "      <th>5627</th>\n",
       "      <td>5627</td>\n",
       "      <td>0</td>\n",
       "      <td>1</td>\n",
       "      <td>1</td>\n",
       "      <td>1</td>\n",
       "      <td>11</td>\n",
       "      <td>1</td>\n",
       "      <td>1</td>\n",
       "      <td>3</td>\n",
       "      <td>2.0</td>\n",
       "      <td>1</td>\n",
       "      <td>4.0</td>\n",
       "      <td>1</td>\n",
       "      <td>3.0</td>\n",
       "      <td>1</td>\n",
       "      <td>21.0</td>\n",
       "      <td>1.0</td>\n",
       "      <td>2.0</td>\n",
       "      <td>4.0</td>\n",
       "      <td>186.0</td>\n",
       "    </tr>\n",
       "    <tr>\n",
       "      <th>5628</th>\n",
       "      <td>5628</td>\n",
       "      <td>0</td>\n",
       "      <td>23</td>\n",
       "      <td>2</td>\n",
       "      <td>3</td>\n",
       "      <td>9</td>\n",
       "      <td>6</td>\n",
       "      <td>1</td>\n",
       "      <td>4</td>\n",
       "      <td>5.0</td>\n",
       "      <td>1</td>\n",
       "      <td>4.0</td>\n",
       "      <td>1</td>\n",
       "      <td>4.0</td>\n",
       "      <td>0</td>\n",
       "      <td>15.0</td>\n",
       "      <td>2.0</td>\n",
       "      <td>2.0</td>\n",
       "      <td>9.0</td>\n",
       "      <td>179.0</td>\n",
       "    </tr>\n",
       "    <tr>\n",
       "      <th>5629</th>\n",
       "      <td>5629</td>\n",
       "      <td>0</td>\n",
       "      <td>8</td>\n",
       "      <td>1</td>\n",
       "      <td>1</td>\n",
       "      <td>15</td>\n",
       "      <td>6</td>\n",
       "      <td>1</td>\n",
       "      <td>3</td>\n",
       "      <td>2.0</td>\n",
       "      <td>1</td>\n",
       "      <td>3.0</td>\n",
       "      <td>1</td>\n",
       "      <td>4.0</td>\n",
       "      <td>0</td>\n",
       "      <td>13.0</td>\n",
       "      <td>2.0</td>\n",
       "      <td>2.0</td>\n",
       "      <td>3.0</td>\n",
       "      <td>169.0</td>\n",
       "    </tr>\n",
       "  </tbody>\n",
       "</table>\n",
       "<p>5399 rows × 20 columns</p>\n",
       "</div>"
      ],
      "text/plain": [
       "      Unnamed: 0  Churn  Tenure  PreferredLoginDevice  CityTier  \\\n",
       "0              0      1       4                     1         3   \n",
       "1              1      1       9                     2         1   \n",
       "2              2      1       9                     2         1   \n",
       "3              3      1       0                     2         3   \n",
       "4              4      1       0                     2         1   \n",
       "...          ...    ...     ...                   ...       ...   \n",
       "5625        5625      0      10                     2         1   \n",
       "5626        5626      0      13                     1         1   \n",
       "5627        5627      0       1                     1         1   \n",
       "5628        5628      0      23                     2         3   \n",
       "5629        5629      0       8                     1         1   \n",
       "\n",
       "      WarehouseToHome  PreferredPaymentMode  Gender  HourSpendOnApp  \\\n",
       "0                   6                     1       0               3   \n",
       "1                   8                     4       1               3   \n",
       "2                  30                     1       1               2   \n",
       "3                  15                     1       1               2   \n",
       "4                  12                     6       1               3   \n",
       "...               ...                   ...     ...             ...   \n",
       "5625               30                     6       1               3   \n",
       "5626               13                     6       1               3   \n",
       "5627               11                     1       1               3   \n",
       "5628                9                     6       1               4   \n",
       "5629               15                     6       1               3   \n",
       "\n",
       "      NumberOfDeviceRegistered  PreferedOrderCat  SatisfactionScore  \\\n",
       "0                          3.0                 1                2.0   \n",
       "1                          4.0                 3                3.0   \n",
       "2                          4.0                 3                3.0   \n",
       "3                          4.0                 1                5.0   \n",
       "4                          3.0                 3                5.0   \n",
       "...                        ...               ...                ...   \n",
       "5625                       2.0                 1                1.0   \n",
       "5626                       5.0                 4                5.0   \n",
       "5627                       2.0                 1                4.0   \n",
       "5628                       5.0                 1                4.0   \n",
       "5629                       2.0                 1                3.0   \n",
       "\n",
       "      MaritalStatus  NumberOfAddress  Complain  OrderAmountHikeFromlastYear  \\\n",
       "0                 2              9.0         1                         11.0   \n",
       "1                 2              7.0         1                         15.0   \n",
       "2                 2              6.0         1                         14.0   \n",
       "3                 2              8.0         0                         23.0   \n",
       "4                 2              3.0         0                         11.0   \n",
       "...             ...              ...       ...                          ...   \n",
       "5625              1              6.0         0                         18.0   \n",
       "5626              1              6.0         0                         16.0   \n",
       "5627              1              3.0         1                         21.0   \n",
       "5628              1              4.0         0                         15.0   \n",
       "5629              1              4.0         0                         13.0   \n",
       "\n",
       "      CouponUsed  OrderCount  DaySinceLastOrder  CashbackAmount  \n",
       "0            1.0         1.0                5.0           160.0  \n",
       "1            0.0         1.0                0.0           121.0  \n",
       "2            0.0         1.0                3.0           120.0  \n",
       "3            0.0         1.0                3.0           134.0  \n",
       "4            1.0         1.0                3.0           130.0  \n",
       "...          ...         ...                ...             ...  \n",
       "5625         1.0         2.0                4.0           151.0  \n",
       "5626         1.0         2.0                3.0           225.0  \n",
       "5627         1.0         2.0                4.0           186.0  \n",
       "5628         2.0         2.0                9.0           179.0  \n",
       "5629         2.0         2.0                3.0           169.0  \n",
       "\n",
       "[5399 rows x 20 columns]"
      ]
     },
     "execution_count": 61,
     "metadata": {},
     "output_type": "execute_result"
    }
   ],
   "source": [
    "df"
   ]
  },
  {
   "cell_type": "code",
   "execution_count": null,
   "id": "959709ae",
   "metadata": {
    "scrolled": true
   },
   "outputs": [],
   "source": []
  },
  {
   "cell_type": "code",
   "execution_count": 62,
   "id": "4d9aa8ad",
   "metadata": {},
   "outputs": [
    {
     "name": "stdout",
     "output_type": "stream",
     "text": [
      "<class 'pandas.core.frame.DataFrame'>\n",
      "Int64Index: 5399 entries, 0 to 5629\n",
      "Data columns (total 20 columns):\n",
      " #   Column                       Non-Null Count  Dtype  \n",
      "---  ------                       --------------  -----  \n",
      " 0   Unnamed: 0                   5399 non-null   int64  \n",
      " 1   Churn                        5399 non-null   int64  \n",
      " 2   Tenure                       5399 non-null   int32  \n",
      " 3   PreferredLoginDevice         5399 non-null   int32  \n",
      " 4   CityTier                     5399 non-null   int64  \n",
      " 5   WarehouseToHome              5399 non-null   int32  \n",
      " 6   PreferredPaymentMode         5399 non-null   int32  \n",
      " 7   Gender                       5399 non-null   int32  \n",
      " 8   HourSpendOnApp               5399 non-null   int32  \n",
      " 9   NumberOfDeviceRegistered     5399 non-null   float64\n",
      " 10  PreferedOrderCat             5399 non-null   int32  \n",
      " 11  SatisfactionScore            5399 non-null   float64\n",
      " 12  MaritalStatus                5399 non-null   int32  \n",
      " 13  NumberOfAddress              5399 non-null   float64\n",
      " 14  Complain                     5399 non-null   int64  \n",
      " 15  OrderAmountHikeFromlastYear  5399 non-null   float64\n",
      " 16  CouponUsed                   5399 non-null   float64\n",
      " 17  OrderCount                   5399 non-null   float64\n",
      " 18  DaySinceLastOrder            5399 non-null   float64\n",
      " 19  CashbackAmount               5399 non-null   float64\n",
      "dtypes: float64(8), int32(8), int64(4)\n",
      "memory usage: 717.1 KB\n"
     ]
    }
   ],
   "source": [
    "df.info()"
   ]
  },
  {
   "cell_type": "code",
   "execution_count": 63,
   "id": "7728fd2d",
   "metadata": {},
   "outputs": [],
   "source": [
    "df['OrderAmountHikeFromlastYear'] = df['OrderAmountHikeFromlastYear'].astype('int')\n",
    "df['CouponUsed'] = df['CouponUsed'].astype('int')\n",
    "df['OrderCount'] = df['OrderCount'].astype('int')\n",
    "df['DaySinceLastOrder'] = df['DaySinceLastOrder'].astype('int')"
   ]
  },
  {
   "cell_type": "code",
   "execution_count": 64,
   "id": "f55f49f2",
   "metadata": {},
   "outputs": [
    {
     "name": "stdout",
     "output_type": "stream",
     "text": [
      "<class 'pandas.core.frame.DataFrame'>\n",
      "Int64Index: 5399 entries, 0 to 5629\n",
      "Data columns (total 20 columns):\n",
      " #   Column                       Non-Null Count  Dtype  \n",
      "---  ------                       --------------  -----  \n",
      " 0   Unnamed: 0                   5399 non-null   int64  \n",
      " 1   Churn                        5399 non-null   int64  \n",
      " 2   Tenure                       5399 non-null   int32  \n",
      " 3   PreferredLoginDevice         5399 non-null   int32  \n",
      " 4   CityTier                     5399 non-null   int64  \n",
      " 5   WarehouseToHome              5399 non-null   int32  \n",
      " 6   PreferredPaymentMode         5399 non-null   int32  \n",
      " 7   Gender                       5399 non-null   int32  \n",
      " 8   HourSpendOnApp               5399 non-null   int32  \n",
      " 9   NumberOfDeviceRegistered     5399 non-null   float64\n",
      " 10  PreferedOrderCat             5399 non-null   int32  \n",
      " 11  SatisfactionScore            5399 non-null   float64\n",
      " 12  MaritalStatus                5399 non-null   int32  \n",
      " 13  NumberOfAddress              5399 non-null   float64\n",
      " 14  Complain                     5399 non-null   int64  \n",
      " 15  OrderAmountHikeFromlastYear  5399 non-null   int32  \n",
      " 16  CouponUsed                   5399 non-null   int32  \n",
      " 17  OrderCount                   5399 non-null   int32  \n",
      " 18  DaySinceLastOrder            5399 non-null   int32  \n",
      " 19  CashbackAmount               5399 non-null   float64\n",
      "dtypes: float64(4), int32(12), int64(4)\n",
      "memory usage: 632.7 KB\n"
     ]
    }
   ],
   "source": [
    "df.info()"
   ]
  },
  {
   "cell_type": "code",
   "execution_count": 65,
   "id": "a347d1dd",
   "metadata": {},
   "outputs": [],
   "source": [
    "cols_to_scale=['NumberOfDeviceRegistered' , 'SatisfactionScore' , 'NumberOfAddress' , 'CashbackAmount' , 'Tenure' , 'PreferredLoginDevice' , 'CityTier' , 'WarehouseToHome' , 'HourSpendOnApp' , 'PreferedOrderCat' , 'OrderAmountHikeFromlastYear' , 'DaySinceLastOrder' ,'OrderCount' , 'CouponUsed' , 'MaritalStatus' , 'PreferredPaymentMode' ]\n",
    "from sklearn.preprocessing import MinMaxScaler\n",
    "scaler=MinMaxScaler()\n",
    "df[cols_to_scale] = scaler.fit_transform(df[cols_to_scale])"
   ]
  },
  {
   "cell_type": "code",
   "execution_count": 66,
   "id": "da36daf7",
   "metadata": {},
   "outputs": [
    {
     "data": {
      "text/html": [
       "<div>\n",
       "<style scoped>\n",
       "    .dataframe tbody tr th:only-of-type {\n",
       "        vertical-align: middle;\n",
       "    }\n",
       "\n",
       "    .dataframe tbody tr th {\n",
       "        vertical-align: top;\n",
       "    }\n",
       "\n",
       "    .dataframe thead th {\n",
       "        text-align: right;\n",
       "    }\n",
       "</style>\n",
       "<table border=\"1\" class=\"dataframe\">\n",
       "  <thead>\n",
       "    <tr style=\"text-align: right;\">\n",
       "      <th></th>\n",
       "      <th>Unnamed: 0</th>\n",
       "      <th>Churn</th>\n",
       "      <th>Tenure</th>\n",
       "      <th>PreferredLoginDevice</th>\n",
       "      <th>CityTier</th>\n",
       "      <th>WarehouseToHome</th>\n",
       "      <th>PreferredPaymentMode</th>\n",
       "      <th>Gender</th>\n",
       "      <th>HourSpendOnApp</th>\n",
       "      <th>NumberOfDeviceRegistered</th>\n",
       "      <th>PreferedOrderCat</th>\n",
       "      <th>SatisfactionScore</th>\n",
       "      <th>MaritalStatus</th>\n",
       "      <th>NumberOfAddress</th>\n",
       "      <th>Complain</th>\n",
       "      <th>OrderAmountHikeFromlastYear</th>\n",
       "      <th>CouponUsed</th>\n",
       "      <th>OrderCount</th>\n",
       "      <th>DaySinceLastOrder</th>\n",
       "      <th>CashbackAmount</th>\n",
       "    </tr>\n",
       "  </thead>\n",
       "  <tbody>\n",
       "    <tr>\n",
       "      <th>0</th>\n",
       "      <td>0</td>\n",
       "      <td>1</td>\n",
       "      <td>0.137931</td>\n",
       "      <td>0.0</td>\n",
       "      <td>1.0</td>\n",
       "      <td>0.032258</td>\n",
       "      <td>0.0</td>\n",
       "      <td>0</td>\n",
       "      <td>0.666667</td>\n",
       "      <td>0.25</td>\n",
       "      <td>0.0</td>\n",
       "      <td>0.25</td>\n",
       "      <td>0.5</td>\n",
       "      <td>0.888889</td>\n",
       "      <td>1</td>\n",
       "      <td>0.000000</td>\n",
       "      <td>0.25</td>\n",
       "      <td>0.0</td>\n",
       "      <td>0.357143</td>\n",
       "      <td>0.308642</td>\n",
       "    </tr>\n",
       "    <tr>\n",
       "      <th>1</th>\n",
       "      <td>1</td>\n",
       "      <td>1</td>\n",
       "      <td>0.310345</td>\n",
       "      <td>1.0</td>\n",
       "      <td>0.0</td>\n",
       "      <td>0.096774</td>\n",
       "      <td>0.6</td>\n",
       "      <td>1</td>\n",
       "      <td>0.666667</td>\n",
       "      <td>0.50</td>\n",
       "      <td>0.4</td>\n",
       "      <td>0.50</td>\n",
       "      <td>0.5</td>\n",
       "      <td>0.666667</td>\n",
       "      <td>1</td>\n",
       "      <td>0.266667</td>\n",
       "      <td>0.00</td>\n",
       "      <td>0.0</td>\n",
       "      <td>0.000000</td>\n",
       "      <td>0.067901</td>\n",
       "    </tr>\n",
       "    <tr>\n",
       "      <th>2</th>\n",
       "      <td>2</td>\n",
       "      <td>1</td>\n",
       "      <td>0.310345</td>\n",
       "      <td>1.0</td>\n",
       "      <td>0.0</td>\n",
       "      <td>0.806452</td>\n",
       "      <td>0.0</td>\n",
       "      <td>1</td>\n",
       "      <td>0.333333</td>\n",
       "      <td>0.50</td>\n",
       "      <td>0.4</td>\n",
       "      <td>0.50</td>\n",
       "      <td>0.5</td>\n",
       "      <td>0.555556</td>\n",
       "      <td>1</td>\n",
       "      <td>0.200000</td>\n",
       "      <td>0.00</td>\n",
       "      <td>0.0</td>\n",
       "      <td>0.214286</td>\n",
       "      <td>0.061728</td>\n",
       "    </tr>\n",
       "    <tr>\n",
       "      <th>3</th>\n",
       "      <td>3</td>\n",
       "      <td>1</td>\n",
       "      <td>0.000000</td>\n",
       "      <td>1.0</td>\n",
       "      <td>1.0</td>\n",
       "      <td>0.322581</td>\n",
       "      <td>0.0</td>\n",
       "      <td>1</td>\n",
       "      <td>0.333333</td>\n",
       "      <td>0.50</td>\n",
       "      <td>0.0</td>\n",
       "      <td>1.00</td>\n",
       "      <td>0.5</td>\n",
       "      <td>0.777778</td>\n",
       "      <td>0</td>\n",
       "      <td>0.800000</td>\n",
       "      <td>0.00</td>\n",
       "      <td>0.0</td>\n",
       "      <td>0.214286</td>\n",
       "      <td>0.148148</td>\n",
       "    </tr>\n",
       "    <tr>\n",
       "      <th>4</th>\n",
       "      <td>4</td>\n",
       "      <td>1</td>\n",
       "      <td>0.000000</td>\n",
       "      <td>1.0</td>\n",
       "      <td>0.0</td>\n",
       "      <td>0.225806</td>\n",
       "      <td>1.0</td>\n",
       "      <td>1</td>\n",
       "      <td>0.666667</td>\n",
       "      <td>0.25</td>\n",
       "      <td>0.4</td>\n",
       "      <td>1.00</td>\n",
       "      <td>0.5</td>\n",
       "      <td>0.222222</td>\n",
       "      <td>0</td>\n",
       "      <td>0.000000</td>\n",
       "      <td>0.25</td>\n",
       "      <td>0.0</td>\n",
       "      <td>0.214286</td>\n",
       "      <td>0.123457</td>\n",
       "    </tr>\n",
       "    <tr>\n",
       "      <th>...</th>\n",
       "      <td>...</td>\n",
       "      <td>...</td>\n",
       "      <td>...</td>\n",
       "      <td>...</td>\n",
       "      <td>...</td>\n",
       "      <td>...</td>\n",
       "      <td>...</td>\n",
       "      <td>...</td>\n",
       "      <td>...</td>\n",
       "      <td>...</td>\n",
       "      <td>...</td>\n",
       "      <td>...</td>\n",
       "      <td>...</td>\n",
       "      <td>...</td>\n",
       "      <td>...</td>\n",
       "      <td>...</td>\n",
       "      <td>...</td>\n",
       "      <td>...</td>\n",
       "      <td>...</td>\n",
       "      <td>...</td>\n",
       "    </tr>\n",
       "    <tr>\n",
       "      <th>5625</th>\n",
       "      <td>5625</td>\n",
       "      <td>0</td>\n",
       "      <td>0.344828</td>\n",
       "      <td>1.0</td>\n",
       "      <td>0.0</td>\n",
       "      <td>0.806452</td>\n",
       "      <td>1.0</td>\n",
       "      <td>1</td>\n",
       "      <td>0.666667</td>\n",
       "      <td>0.00</td>\n",
       "      <td>0.0</td>\n",
       "      <td>0.00</td>\n",
       "      <td>0.0</td>\n",
       "      <td>0.555556</td>\n",
       "      <td>0</td>\n",
       "      <td>0.466667</td>\n",
       "      <td>0.25</td>\n",
       "      <td>0.2</td>\n",
       "      <td>0.285714</td>\n",
       "      <td>0.253086</td>\n",
       "    </tr>\n",
       "    <tr>\n",
       "      <th>5626</th>\n",
       "      <td>5626</td>\n",
       "      <td>0</td>\n",
       "      <td>0.448276</td>\n",
       "      <td>0.0</td>\n",
       "      <td>0.0</td>\n",
       "      <td>0.258065</td>\n",
       "      <td>1.0</td>\n",
       "      <td>1</td>\n",
       "      <td>0.666667</td>\n",
       "      <td>0.75</td>\n",
       "      <td>0.6</td>\n",
       "      <td>1.00</td>\n",
       "      <td>0.0</td>\n",
       "      <td>0.555556</td>\n",
       "      <td>0</td>\n",
       "      <td>0.333333</td>\n",
       "      <td>0.25</td>\n",
       "      <td>0.2</td>\n",
       "      <td>0.214286</td>\n",
       "      <td>0.709877</td>\n",
       "    </tr>\n",
       "    <tr>\n",
       "      <th>5627</th>\n",
       "      <td>5627</td>\n",
       "      <td>0</td>\n",
       "      <td>0.034483</td>\n",
       "      <td>0.0</td>\n",
       "      <td>0.0</td>\n",
       "      <td>0.193548</td>\n",
       "      <td>0.0</td>\n",
       "      <td>1</td>\n",
       "      <td>0.666667</td>\n",
       "      <td>0.00</td>\n",
       "      <td>0.0</td>\n",
       "      <td>0.75</td>\n",
       "      <td>0.0</td>\n",
       "      <td>0.222222</td>\n",
       "      <td>1</td>\n",
       "      <td>0.666667</td>\n",
       "      <td>0.25</td>\n",
       "      <td>0.2</td>\n",
       "      <td>0.285714</td>\n",
       "      <td>0.469136</td>\n",
       "    </tr>\n",
       "    <tr>\n",
       "      <th>5628</th>\n",
       "      <td>5628</td>\n",
       "      <td>0</td>\n",
       "      <td>0.793103</td>\n",
       "      <td>1.0</td>\n",
       "      <td>1.0</td>\n",
       "      <td>0.129032</td>\n",
       "      <td>1.0</td>\n",
       "      <td>1</td>\n",
       "      <td>1.000000</td>\n",
       "      <td>0.75</td>\n",
       "      <td>0.0</td>\n",
       "      <td>0.75</td>\n",
       "      <td>0.0</td>\n",
       "      <td>0.333333</td>\n",
       "      <td>0</td>\n",
       "      <td>0.266667</td>\n",
       "      <td>0.50</td>\n",
       "      <td>0.2</td>\n",
       "      <td>0.642857</td>\n",
       "      <td>0.425926</td>\n",
       "    </tr>\n",
       "    <tr>\n",
       "      <th>5629</th>\n",
       "      <td>5629</td>\n",
       "      <td>0</td>\n",
       "      <td>0.275862</td>\n",
       "      <td>0.0</td>\n",
       "      <td>0.0</td>\n",
       "      <td>0.322581</td>\n",
       "      <td>1.0</td>\n",
       "      <td>1</td>\n",
       "      <td>0.666667</td>\n",
       "      <td>0.00</td>\n",
       "      <td>0.0</td>\n",
       "      <td>0.50</td>\n",
       "      <td>0.0</td>\n",
       "      <td>0.333333</td>\n",
       "      <td>0</td>\n",
       "      <td>0.133333</td>\n",
       "      <td>0.50</td>\n",
       "      <td>0.2</td>\n",
       "      <td>0.214286</td>\n",
       "      <td>0.364198</td>\n",
       "    </tr>\n",
       "  </tbody>\n",
       "</table>\n",
       "<p>5399 rows × 20 columns</p>\n",
       "</div>"
      ],
      "text/plain": [
       "      Unnamed: 0  Churn    Tenure  PreferredLoginDevice  CityTier  \\\n",
       "0              0      1  0.137931                   0.0       1.0   \n",
       "1              1      1  0.310345                   1.0       0.0   \n",
       "2              2      1  0.310345                   1.0       0.0   \n",
       "3              3      1  0.000000                   1.0       1.0   \n",
       "4              4      1  0.000000                   1.0       0.0   \n",
       "...          ...    ...       ...                   ...       ...   \n",
       "5625        5625      0  0.344828                   1.0       0.0   \n",
       "5626        5626      0  0.448276                   0.0       0.0   \n",
       "5627        5627      0  0.034483                   0.0       0.0   \n",
       "5628        5628      0  0.793103                   1.0       1.0   \n",
       "5629        5629      0  0.275862                   0.0       0.0   \n",
       "\n",
       "      WarehouseToHome  PreferredPaymentMode  Gender  HourSpendOnApp  \\\n",
       "0            0.032258                   0.0       0        0.666667   \n",
       "1            0.096774                   0.6       1        0.666667   \n",
       "2            0.806452                   0.0       1        0.333333   \n",
       "3            0.322581                   0.0       1        0.333333   \n",
       "4            0.225806                   1.0       1        0.666667   \n",
       "...               ...                   ...     ...             ...   \n",
       "5625         0.806452                   1.0       1        0.666667   \n",
       "5626         0.258065                   1.0       1        0.666667   \n",
       "5627         0.193548                   0.0       1        0.666667   \n",
       "5628         0.129032                   1.0       1        1.000000   \n",
       "5629         0.322581                   1.0       1        0.666667   \n",
       "\n",
       "      NumberOfDeviceRegistered  PreferedOrderCat  SatisfactionScore  \\\n",
       "0                         0.25               0.0               0.25   \n",
       "1                         0.50               0.4               0.50   \n",
       "2                         0.50               0.4               0.50   \n",
       "3                         0.50               0.0               1.00   \n",
       "4                         0.25               0.4               1.00   \n",
       "...                        ...               ...                ...   \n",
       "5625                      0.00               0.0               0.00   \n",
       "5626                      0.75               0.6               1.00   \n",
       "5627                      0.00               0.0               0.75   \n",
       "5628                      0.75               0.0               0.75   \n",
       "5629                      0.00               0.0               0.50   \n",
       "\n",
       "      MaritalStatus  NumberOfAddress  Complain  OrderAmountHikeFromlastYear  \\\n",
       "0               0.5         0.888889         1                     0.000000   \n",
       "1               0.5         0.666667         1                     0.266667   \n",
       "2               0.5         0.555556         1                     0.200000   \n",
       "3               0.5         0.777778         0                     0.800000   \n",
       "4               0.5         0.222222         0                     0.000000   \n",
       "...             ...              ...       ...                          ...   \n",
       "5625            0.0         0.555556         0                     0.466667   \n",
       "5626            0.0         0.555556         0                     0.333333   \n",
       "5627            0.0         0.222222         1                     0.666667   \n",
       "5628            0.0         0.333333         0                     0.266667   \n",
       "5629            0.0         0.333333         0                     0.133333   \n",
       "\n",
       "      CouponUsed  OrderCount  DaySinceLastOrder  CashbackAmount  \n",
       "0           0.25         0.0           0.357143        0.308642  \n",
       "1           0.00         0.0           0.000000        0.067901  \n",
       "2           0.00         0.0           0.214286        0.061728  \n",
       "3           0.00         0.0           0.214286        0.148148  \n",
       "4           0.25         0.0           0.214286        0.123457  \n",
       "...          ...         ...                ...             ...  \n",
       "5625        0.25         0.2           0.285714        0.253086  \n",
       "5626        0.25         0.2           0.214286        0.709877  \n",
       "5627        0.25         0.2           0.285714        0.469136  \n",
       "5628        0.50         0.2           0.642857        0.425926  \n",
       "5629        0.50         0.2           0.214286        0.364198  \n",
       "\n",
       "[5399 rows x 20 columns]"
      ]
     },
     "execution_count": 66,
     "metadata": {},
     "output_type": "execute_result"
    }
   ],
   "source": [
    "df"
   ]
  },
  {
   "cell_type": "code",
   "execution_count": 67,
   "id": "a0b93b64",
   "metadata": {
    "scrolled": true
   },
   "outputs": [
    {
     "data": {
      "text/plain": [
       "<AxesSubplot:>"
      ]
     },
     "execution_count": 67,
     "metadata": {},
     "output_type": "execute_result"
    },
    {
     "data": {
      "image/png": "[encoded data removed]",
      "text/plain": [
       "<Figure size 864x720 with 2 Axes>"
      ]
     },
     "metadata": {
      "needs_background": "light"
     },
     "output_type": "display_data"
    }
   ],
   "source": [
    "# correlations of variables\n",
    "\n",
    "import seaborn as sns\n",
    "corr = df.corr()\n",
    "f, ax = plt.subplots(figsize=(12, 10))\n",
    "mask = np.triu(np.ones_like(corr, dtype=bool))\n",
    "cmap = sns.diverging_palette(230, 20, as_cmap=True)\n",
    "sns.heatmap(corr, annot=True, mask = mask, cmap=cmap)"
   ]
  },
  {
   "cell_type": "code",
   "execution_count": null,
   "id": "22946df1",
   "metadata": {},
   "outputs": [],
   "source": []
  },
  {
   "cell_type": "code",
   "execution_count": null,
   "id": "79e6fd7a",
   "metadata": {},
   "outputs": [],
   "source": []
  },
  {
   "cell_type": "code",
   "execution_count": 68,
   "id": "8ba89fdc",
   "metadata": {},
   "outputs": [],
   "source": [
    "x=df.drop('Churn' , axis='columns')\n",
    "y=df['Churn']"
   ]
  },
  {
   "cell_type": "code",
   "execution_count": 69,
   "id": "4cf5deee",
   "metadata": {},
   "outputs": [],
   "source": [
    "from sklearn.model_selection import train_test_split\n",
    "x_train, x_test, y_train, y_test = train_test_split(x,y,test_size=0.2,random_state=5) "
   ]
  },
  {
   "cell_type": "code",
   "execution_count": 70,
   "id": "94ea0668",
   "metadata": {},
   "outputs": [
    {
     "data": {
      "text/plain": [
       "(4319, 19)"
      ]
     },
     "execution_count": 70,
     "metadata": {},
     "output_type": "execute_result"
    }
   ],
   "source": [
    "x_train.shape"
   ]
  },
  {
   "cell_type": "code",
   "execution_count": 71,
   "id": "366ef104",
   "metadata": {},
   "outputs": [
    {
     "data": {
      "text/plain": [
       "(1080, 19)"
      ]
     },
     "execution_count": 71,
     "metadata": {},
     "output_type": "execute_result"
    }
   ],
   "source": [
    "x_test.shape"
   ]
  },
  {
   "cell_type": "code",
   "execution_count": 72,
   "id": "dd33edc7",
   "metadata": {},
   "outputs": [
    {
     "data": {
      "text/plain": [
       "19"
      ]
     },
     "execution_count": 72,
     "metadata": {},
     "output_type": "execute_result"
    }
   ],
   "source": [
    "len(x_train.columns)"
   ]
  },
  {
   "cell_type": "code",
   "execution_count": null,
   "id": "c2a24719",
   "metadata": {},
   "outputs": [],
   "source": []
  },
  {
   "cell_type": "markdown",
   "id": "5ff2acae",
   "metadata": {},
   "source": [
    "# Model Building"
   ]
  },
  {
   "cell_type": "code",
   "execution_count": 73,
   "id": "94fc2391",
   "metadata": {},
   "outputs": [],
   "source": [
    "import tensorflow as tf\n",
    "from tensorflow import keras\n",
    "\n"
   ]
  },
  {
   "cell_type": "code",
   "execution_count": 74,
   "id": "053516f0",
   "metadata": {},
   "outputs": [
    {
     "name": "stdout",
     "output_type": "stream",
     "text": [
      "Epoch 1/100\n",
      "135/135 [==============================] - 1s 2ms/step - loss: 30.4851 - accuracy: 0.6851\n",
      "Epoch 2/100\n",
      "135/135 [==============================] - 0s 2ms/step - loss: 0.4966 - accuracy: 0.8162\n",
      "Epoch 3/100\n",
      "135/135 [==============================] - 0s 2ms/step - loss: 0.5053 - accuracy: 0.8111\n",
      "Epoch 4/100\n",
      "135/135 [==============================] - 0s 2ms/step - loss: 0.6079 - accuracy: 0.7921\n",
      "Epoch 5/100\n",
      "135/135 [==============================] - 0s 2ms/step - loss: 0.6519 - accuracy: 0.7895\n",
      "Epoch 6/100\n",
      "135/135 [==============================] - 0s 2ms/step - loss: 0.5445 - accuracy: 0.8062\n",
      "Epoch 7/100\n",
      "135/135 [==============================] - 0s 2ms/step - loss: 0.6380 - accuracy: 0.7828\n",
      "Epoch 8/100\n",
      "135/135 [==============================] - 0s 2ms/step - loss: 0.5839 - accuracy: 0.7986\n",
      "Epoch 9/100\n",
      "135/135 [==============================] - 0s 2ms/step - loss: 0.5042 - accuracy: 0.8078\n",
      "Epoch 10/100\n",
      "135/135 [==============================] - 0s 2ms/step - loss: 0.4521 - accuracy: 0.8257\n",
      "Epoch 11/100\n",
      "135/135 [==============================] - 0s 2ms/step - loss: 0.5550 - accuracy: 0.8053\n",
      "Epoch 12/100\n",
      "135/135 [==============================] - 0s 2ms/step - loss: 0.5669 - accuracy: 0.8115\n",
      "Epoch 13/100\n",
      "135/135 [==============================] - 0s 2ms/step - loss: 0.5861 - accuracy: 0.8085\n",
      "Epoch 14/100\n",
      "135/135 [==============================] - 0s 2ms/step - loss: 0.4779 - accuracy: 0.8178\n",
      "Epoch 15/100\n",
      "135/135 [==============================] - 0s 2ms/step - loss: 0.4716 - accuracy: 0.8176\n",
      "Epoch 16/100\n",
      "135/135 [==============================] - 0s 2ms/step - loss: 0.4955 - accuracy: 0.8178\n",
      "Epoch 17/100\n",
      "135/135 [==============================] - 0s 2ms/step - loss: 0.5310 - accuracy: 0.8259\n",
      "Epoch 18/100\n",
      "135/135 [==============================] - 0s 2ms/step - loss: 0.7172 - accuracy: 0.7888\n",
      "Epoch 19/100\n",
      "135/135 [==============================] - 0s 2ms/step - loss: 0.5137 - accuracy: 0.8194\n",
      "Epoch 20/100\n",
      "135/135 [==============================] - 0s 2ms/step - loss: 0.4114 - accuracy: 0.8368\n",
      "Epoch 21/100\n",
      "135/135 [==============================] - 0s 2ms/step - loss: 0.5551 - accuracy: 0.8092\n",
      "Epoch 22/100\n",
      "135/135 [==============================] - 0s 2ms/step - loss: 0.6412 - accuracy: 0.8108\n",
      "Epoch 23/100\n",
      "135/135 [==============================] - 0s 2ms/step - loss: 0.5350 - accuracy: 0.8236\n",
      "Epoch 24/100\n",
      "135/135 [==============================] - 0s 2ms/step - loss: 0.5011 - accuracy: 0.8148\n",
      "Epoch 25/100\n",
      "135/135 [==============================] - 0s 2ms/step - loss: 0.4908 - accuracy: 0.8196\n",
      "Epoch 26/100\n",
      "135/135 [==============================] - 0s 2ms/step - loss: 0.5398 - accuracy: 0.8127\n",
      "Epoch 27/100\n",
      "135/135 [==============================] - 0s 2ms/step - loss: 0.4690 - accuracy: 0.8261\n",
      "Epoch 28/100\n",
      "135/135 [==============================] - 0s 2ms/step - loss: 0.4781 - accuracy: 0.8236\n",
      "Epoch 29/100\n",
      "135/135 [==============================] - 0s 1ms/step - loss: 0.5187 - accuracy: 0.8187\n",
      "Epoch 30/100\n",
      "135/135 [==============================] - 0s 1ms/step - loss: 0.5148 - accuracy: 0.8233\n",
      "Epoch 31/100\n",
      "135/135 [==============================] - 0s 2ms/step - loss: 0.4550 - accuracy: 0.8351\n",
      "Epoch 32/100\n",
      "135/135 [==============================] - 0s 2ms/step - loss: 0.3940 - accuracy: 0.8460\n",
      "Epoch 33/100\n",
      "135/135 [==============================] - 0s 2ms/step - loss: 0.6079 - accuracy: 0.8171\n",
      "Epoch 34/100\n",
      "135/135 [==============================] - 0s 2ms/step - loss: 0.4279 - accuracy: 0.8402\n",
      "Epoch 35/100\n",
      "135/135 [==============================] - 0s 2ms/step - loss: 0.5349 - accuracy: 0.8201\n",
      "Epoch 36/100\n",
      "135/135 [==============================] - 0s 2ms/step - loss: 0.4394 - accuracy: 0.8342\n",
      "Epoch 37/100\n",
      "135/135 [==============================] - 0s 2ms/step - loss: 0.7187 - accuracy: 0.8192\n",
      "Epoch 38/100\n",
      "135/135 [==============================] - 0s 2ms/step - loss: 0.4415 - accuracy: 0.8370\n",
      "Epoch 39/100\n",
      "135/135 [==============================] - 0s 2ms/step - loss: 0.4538 - accuracy: 0.8354\n",
      "Epoch 40/100\n",
      "135/135 [==============================] - 0s 2ms/step - loss: 0.5273 - accuracy: 0.8213\n",
      "Epoch 41/100\n",
      "135/135 [==============================] - 0s 2ms/step - loss: 0.4833 - accuracy: 0.8317\n",
      "Epoch 42/100\n",
      "135/135 [==============================] - 0s 2ms/step - loss: 0.3983 - accuracy: 0.8437\n",
      "Epoch 43/100\n",
      "135/135 [==============================] - 0s 2ms/step - loss: 0.4039 - accuracy: 0.8426\n",
      "Epoch 44/100\n",
      "135/135 [==============================] - 0s 2ms/step - loss: 0.7685 - accuracy: 0.8162\n",
      "Epoch 45/100\n",
      "135/135 [==============================] - 0s 2ms/step - loss: 0.3858 - accuracy: 0.8523\n",
      "Epoch 46/100\n",
      "135/135 [==============================] - 0s 2ms/step - loss: 0.3956 - accuracy: 0.8453\n",
      "Epoch 47/100\n",
      "135/135 [==============================] - 0s 2ms/step - loss: 0.4886 - accuracy: 0.8245\n",
      "Epoch 48/100\n",
      "135/135 [==============================] - 0s 2ms/step - loss: 0.4397 - accuracy: 0.8400\n",
      "Epoch 49/100\n",
      "135/135 [==============================] - 0s 2ms/step - loss: 0.5355 - accuracy: 0.8203\n",
      "Epoch 50/100\n",
      "135/135 [==============================] - 0s 2ms/step - loss: 0.6335 - accuracy: 0.8053\n",
      "Epoch 51/100\n",
      "135/135 [==============================] - 0s 2ms/step - loss: 0.3699 - accuracy: 0.8555\n",
      "Epoch 52/100\n",
      "135/135 [==============================] - 0s 2ms/step - loss: 0.4824 - accuracy: 0.8328\n",
      "Epoch 53/100\n",
      "135/135 [==============================] - 0s 2ms/step - loss: 0.4337 - accuracy: 0.8375\n",
      "Epoch 54/100\n",
      "135/135 [==============================] - 0s 2ms/step - loss: 0.4046 - accuracy: 0.8449\n",
      "Epoch 55/100\n",
      "135/135 [==============================] - 0s 2ms/step - loss: 0.4385 - accuracy: 0.8419\n",
      "Epoch 56/100\n",
      "135/135 [==============================] - 0s 2ms/step - loss: 0.4053 - accuracy: 0.8467\n",
      "Epoch 57/100\n",
      "135/135 [==============================] - 0s 2ms/step - loss: 0.3939 - accuracy: 0.8460\n",
      "Epoch 58/100\n",
      "135/135 [==============================] - 0s 2ms/step - loss: 0.4417 - accuracy: 0.8395\n",
      "Epoch 59/100\n",
      "135/135 [==============================] - 0s 2ms/step - loss: 0.5205 - accuracy: 0.8328\n",
      "Epoch 60/100\n",
      "135/135 [==============================] - 0s 2ms/step - loss: 0.3893 - accuracy: 0.8548\n",
      "Epoch 61/100\n",
      "135/135 [==============================] - 0s 2ms/step - loss: 0.4668 - accuracy: 0.8444\n",
      "Epoch 62/100\n",
      "135/135 [==============================] - 0s 2ms/step - loss: 0.4469 - accuracy: 0.8349\n",
      "Epoch 63/100\n",
      "135/135 [==============================] - 0s 2ms/step - loss: 0.4729 - accuracy: 0.8358\n",
      "Epoch 64/100\n",
      "135/135 [==============================] - 0s 2ms/step - loss: 0.4682 - accuracy: 0.8305\n",
      "Epoch 65/100\n",
      "135/135 [==============================] - 0s 2ms/step - loss: 0.3989 - accuracy: 0.8463\n",
      "Epoch 66/100\n",
      "135/135 [==============================] - 0s 2ms/step - loss: 0.5040 - accuracy: 0.8240\n",
      "Epoch 67/100\n",
      "135/135 [==============================] - 0s 2ms/step - loss: 0.4558 - accuracy: 0.8307\n",
      "Epoch 68/100\n",
      "135/135 [==============================] - 0s 2ms/step - loss: 0.4518 - accuracy: 0.8372\n",
      "Epoch 69/100\n",
      "135/135 [==============================] - 0s 2ms/step - loss: 0.4424 - accuracy: 0.8407\n",
      "Epoch 70/100\n",
      "135/135 [==============================] - 0s 2ms/step - loss: 0.4549 - accuracy: 0.8361\n",
      "Epoch 71/100\n",
      "135/135 [==============================] - 0s 2ms/step - loss: 0.4432 - accuracy: 0.8449\n",
      "Epoch 72/100\n",
      "135/135 [==============================] - 0s 2ms/step - loss: 0.5642 - accuracy: 0.8245\n",
      "Epoch 73/100\n",
      "135/135 [==============================] - 0s 2ms/step - loss: 0.6428 - accuracy: 0.8219\n",
      "Epoch 74/100\n",
      "135/135 [==============================] - 0s 2ms/step - loss: 0.4098 - accuracy: 0.8514\n",
      "Epoch 75/100\n",
      "135/135 [==============================] - 0s 2ms/step - loss: 0.4487 - accuracy: 0.8412\n",
      "Epoch 76/100\n",
      "135/135 [==============================] - 0s 2ms/step - loss: 0.4046 - accuracy: 0.8444\n",
      "Epoch 77/100\n",
      "135/135 [==============================] - 0s 2ms/step - loss: 0.4072 - accuracy: 0.8451\n",
      "Epoch 78/100\n",
      "135/135 [==============================] - 0s 2ms/step - loss: 0.3942 - accuracy: 0.8467\n",
      "Epoch 79/100\n",
      "135/135 [==============================] - 0s 2ms/step - loss: 0.5400 - accuracy: 0.8326\n",
      "Epoch 80/100\n",
      "135/135 [==============================] - 0s 2ms/step - loss: 0.4247 - accuracy: 0.8375\n",
      "Epoch 81/100\n"
     ]
    },
    {
     "name": "stdout",
     "output_type": "stream",
     "text": [
      "135/135 [==============================] - 0s 2ms/step - loss: 0.4046 - accuracy: 0.8393\n",
      "Epoch 82/100\n",
      "135/135 [==============================] - 0s 2ms/step - loss: 0.4879 - accuracy: 0.8340\n",
      "Epoch 83/100\n",
      "135/135 [==============================] - 0s 1ms/step - loss: 0.3437 - accuracy: 0.8634\n",
      "Epoch 84/100\n",
      "135/135 [==============================] - 0s 1ms/step - loss: 0.4513 - accuracy: 0.8389\n",
      "Epoch 85/100\n",
      "135/135 [==============================] - 0s 2ms/step - loss: 0.5243 - accuracy: 0.8261\n",
      "Epoch 86/100\n",
      "135/135 [==============================] - 0s 3ms/step - loss: 0.5577 - accuracy: 0.8201\n",
      "Epoch 87/100\n",
      "135/135 [==============================] - 0s 2ms/step - loss: 0.5022 - accuracy: 0.8252\n",
      "Epoch 88/100\n",
      "135/135 [==============================] - 0s 2ms/step - loss: 0.3847 - accuracy: 0.8514\n",
      "Epoch 89/100\n",
      "135/135 [==============================] - 0s 2ms/step - loss: 0.4374 - accuracy: 0.8407\n",
      "Epoch 90/100\n",
      "135/135 [==============================] - 0s 2ms/step - loss: 0.3903 - accuracy: 0.8520\n",
      "Epoch 91/100\n",
      "135/135 [==============================] - 0s 2ms/step - loss: 0.5511 - accuracy: 0.8196\n",
      "Epoch 92/100\n",
      "135/135 [==============================] - 0s 2ms/step - loss: 0.5569 - accuracy: 0.8261\n",
      "Epoch 93/100\n",
      "135/135 [==============================] - 0s 2ms/step - loss: 0.4677 - accuracy: 0.8361\n",
      "Epoch 94/100\n",
      "135/135 [==============================] - 0s 2ms/step - loss: 0.3847 - accuracy: 0.8514\n",
      "Epoch 95/100\n",
      "135/135 [==============================] - 0s 2ms/step - loss: 0.4109 - accuracy: 0.8486\n",
      "Epoch 96/100\n",
      "135/135 [==============================] - 0s 2ms/step - loss: 0.5848 - accuracy: 0.8291\n",
      "Epoch 97/100\n",
      "135/135 [==============================] - 0s 2ms/step - loss: 0.4543 - accuracy: 0.8386\n",
      "Epoch 98/100\n",
      "135/135 [==============================] - 0s 2ms/step - loss: 0.6039 - accuracy: 0.8217\n",
      "Epoch 99/100\n",
      "135/135 [==============================] - 0s 2ms/step - loss: 0.4195 - accuracy: 0.8437\n",
      "Epoch 100/100\n",
      "135/135 [==============================] - 0s 2ms/step - loss: 0.4328 - accuracy: 0.8414\n"
     ]
    },
    {
     "data": {
      "text/plain": [
       "<keras.callbacks.History at 0x1c9188c6160>"
      ]
     },
     "execution_count": 74,
     "metadata": {},
     "output_type": "execute_result"
    }
   ],
   "source": [
    "model=keras.Sequential([\n",
    "    keras.layers.Dense(19,input_shape=(19,), activation='relu'),\n",
    "    keras.layers.Dense(1,activation='sigmoid'),\n",
    "])\n",
    "\n",
    "model.compile(optimizer='adam',\n",
    "             loss='binary_crossentropy',\n",
    "             metrics=['accuracy'])\n",
    "\n",
    "model.fit(x_train, y_train, epochs=100)"
   ]
  },
  {
   "cell_type": "code",
   "execution_count": null,
   "id": "a929473d",
   "metadata": {},
   "outputs": [],
   "source": []
  },
  {
   "cell_type": "code",
   "execution_count": 78,
   "id": "9152afd7",
   "metadata": {},
   "outputs": [
    {
     "name": "stdout",
     "output_type": "stream",
     "text": [
      "34/34 [==============================] - 0s 1ms/step - loss: 1.0363 - accuracy: 0.5954\n"
     ]
    },
    {
     "data": {
      "text/plain": [
       "[1.0363414287567139, 0.595370352268219]"
      ]
     },
     "execution_count": 78,
     "metadata": {},
     "output_type": "execute_result"
    }
   ],
   "source": [
    "model.evaluate(x_test,y_test)"
   ]
  },
  {
   "cell_type": "code",
   "execution_count": null,
   "id": "2375241f",
   "metadata": {},
   "outputs": [],
   "source": []
  },
  {
   "cell_type": "code",
   "execution_count": 79,
   "id": "9664c7a1",
   "metadata": {},
   "outputs": [
    {
     "data": {
      "text/plain": [
       "array([[0.8181599 ],\n",
       "       [0.15584463],\n",
       "       [0.03639677],\n",
       "       [0.3500979 ],\n",
       "       [0.03205341]], dtype=float32)"
      ]
     },
     "execution_count": 79,
     "metadata": {},
     "output_type": "execute_result"
    }
   ],
   "source": [
    "yp=model.predict(x_test)\n",
    "yp[:5]"
   ]
  },
  {
   "cell_type": "code",
   "execution_count": null,
   "id": "a537fd8c",
   "metadata": {},
   "outputs": [],
   "source": []
  },
  {
   "cell_type": "code",
   "execution_count": 89,
   "id": "a90b2db1",
   "metadata": {},
   "outputs": [],
   "source": [
    "y_pred=[]\n",
    "for element in yp:\n",
    "    if element > 0.5:\n",
    "        y_pred.append(1)\n",
    "    else:\n",
    "        y_pred.append(0)"
   ]
  },
  {
   "cell_type": "code",
   "execution_count": 90,
   "id": "476e5ec9",
   "metadata": {},
   "outputs": [
    {
     "data": {
      "text/plain": [
       "[1, 0, 0, 0, 0]"
      ]
     },
     "execution_count": 90,
     "metadata": {},
     "output_type": "execute_result"
    }
   ],
   "source": [
    "y_pred[:5]"
   ]
  },
  {
   "cell_type": "code",
   "execution_count": 91,
   "id": "6bb08afb",
   "metadata": {},
   "outputs": [
    {
     "name": "stdout",
     "output_type": "stream",
     "text": [
      "              precision    recall  f1-score   support\n",
      "\n",
      "           0       0.96      0.54      0.69       903\n",
      "           1       0.27      0.89      0.42       177\n",
      "\n",
      "    accuracy                           0.60      1080\n",
      "   macro avg       0.62      0.71      0.55      1080\n",
      "weighted avg       0.85      0.60      0.65      1080\n",
      "\n"
     ]
    }
   ],
   "source": [
    "from sklearn.metrics import confusion_matrix, classification_report\n",
    "print(classification_report(y_test,y_pred))"
   ]
  },
  {
   "cell_type": "code",
   "execution_count": null,
   "id": "c33c3de2",
   "metadata": {},
   "outputs": [],
   "source": []
  },
  {
   "cell_type": "code",
   "execution_count": 92,
   "id": "d51401dc",
   "metadata": {
    "scrolled": true
   },
   "outputs": [
    {
     "data": {
      "text/plain": [
       "Text(69.0, 0.5, 'Truth')"
      ]
     },
     "execution_count": 92,
     "metadata": {},
     "output_type": "execute_result"
    },
    {
     "data": {
      "image/png": "[encoded data removed]",
      "text/plain": [
       "<Figure size 720x504 with 2 Axes>"
      ]
     },
     "metadata": {
      "needs_background": "light"
     },
     "output_type": "display_data"
    }
   ],
   "source": [
    "import seaborn as sn\n",
    "cm=tf.math.confusion_matrix(labels=y_test , predictions=y_pred)\n",
    "\n",
    "plt.figure(figsize=(10,7))\n",
    "sn.heatmap(cm,annot=True,fmt='d')\n",
    "plt.xlabel('Predicted')\n",
    "plt.ylabel('Truth')"
   ]
  },
  {
   "cell_type": "code",
   "execution_count": null,
   "id": "7841eac0",
   "metadata": {},
   "outputs": [],
   "source": []
  },
  {
   "cell_type": "markdown",
   "id": "59d3a3a4",
   "metadata": {},
   "source": [
    "## Accuracy"
   ]
  },
  {
   "cell_type": "code",
   "execution_count": 93,
   "id": "c2af17c1",
   "metadata": {},
   "outputs": [
    {
     "data": {
      "text/plain": [
       "0.87"
      ]
     },
     "execution_count": 93,
     "metadata": {},
     "output_type": "execute_result"
    }
   ],
   "source": [
    "round((824+118)/(824+118+79+59),2)"
   ]
  },
  {
   "cell_type": "code",
   "execution_count": null,
   "id": "10b9899c",
   "metadata": {},
   "outputs": [],
   "source": []
  },
  {
   "cell_type": "markdown",
   "id": "53612e94",
   "metadata": {},
   "source": [
    "## Precision for 0 class"
   ]
  },
  {
   "cell_type": "code",
   "execution_count": 94,
   "id": "43e3fe60",
   "metadata": {},
   "outputs": [
    {
     "data": {
      "text/plain": [
       "0.93"
      ]
     },
     "execution_count": 94,
     "metadata": {},
     "output_type": "execute_result"
    }
   ],
   "source": [
    "round(824/(824+59),2)"
   ]
  },
  {
   "cell_type": "code",
   "execution_count": null,
   "id": "b665a6bc",
   "metadata": {},
   "outputs": [],
   "source": []
  },
  {
   "cell_type": "markdown",
   "id": "2781d19d",
   "metadata": {},
   "source": [
    "## Precision for 1 class"
   ]
  },
  {
   "cell_type": "code",
   "execution_count": 95,
   "id": "d0b3983f",
   "metadata": {},
   "outputs": [
    {
     "data": {
      "text/plain": [
       "0.6"
      ]
     },
     "execution_count": 95,
     "metadata": {},
     "output_type": "execute_result"
    }
   ],
   "source": [
    "round(118/(118+79),2)"
   ]
  },
  {
   "cell_type": "code",
   "execution_count": null,
   "id": "8acee1eb",
   "metadata": {},
   "outputs": [],
   "source": []
  },
  {
   "cell_type": "code",
   "execution_count": null,
   "id": "1706781e",
   "metadata": {},
   "outputs": [],
   "source": []
  },
  {
   "cell_type": "code",
   "execution_count": null,
   "id": "3836e51b",
   "metadata": {},
   "outputs": [],
   "source": []
  }
 ],
 "metadata": {
  "kernelspec": {
   "display_name": "Python 3 (ipykernel)",
   "language": "python",
   "name": "python3"
  },
  "language_info": {
   "codemirror_mode": {
    "name": "ipython",
    "version": 3
   },
   "file_extension": ".py",
   "mimetype": "text/x-python",
   "name": "python",
   "nbconvert_exporter": "python",
   "pygments_lexer": "ipython3",
   "version": "3.9.7"
  }
 },
 "nbformat": 4,
 "nbformat_minor": 5
}
